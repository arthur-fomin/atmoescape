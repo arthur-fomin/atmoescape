{
 "cells": [
  {
   "cell_type": "code",
   "execution_count": 9,
   "metadata": {},
   "outputs": [
    {
     "name": "stdout",
     "output_type": "stream",
     "text": [
      "Symbolic result: 0.707106781186548*sqrt(2)\n"
     ]
    },
    {
     "ename": "TypeError",
     "evalue": "can't convert an affine function (<class 'uncertainties.core.AffineScalarFunc'>) to float; use x.nominal_value",
     "output_type": "error",
     "traceback": [
      "\u001b[31m---------------------------------------------------------------------------\u001b[39m",
      "\u001b[31mTypeError\u001b[39m                                 Traceback (most recent call last)",
      "\u001b[36mCell\u001b[39m\u001b[36m \u001b[39m\u001b[32mIn[9]\u001b[39m\u001b[32m, line 33\u001b[39m\n\u001b[32m     31\u001b[39m k_val = k.magnitude  \u001b[38;5;66;03m# ufloat\u001b[39;00m\n\u001b[32m     32\u001b[39m T_val = T.magnitude  \u001b[38;5;66;03m# ufloat\u001b[39;00m\n\u001b[32m---> \u001b[39m\u001b[32m33\u001b[39m norm_const_val = (m_val / (\u001b[32;43m2\u001b[39;49m\u001b[43m \u001b[49m\u001b[43m*\u001b[49m\u001b[43m \u001b[49m\u001b[43msp\u001b[49m\u001b[43m.\u001b[49m\u001b[43mpi\u001b[49m\u001b[43m \u001b[49m\u001b[43m*\u001b[49m\u001b[43m \u001b[49m\u001b[43mk_val\u001b[49m * T_val))**(\u001b[32m3\u001b[39m/\u001b[32m2\u001b[39m)\n\u001b[32m     35\u001b[39m \u001b[38;5;66;03m# Reattach units: units of (m / (k * T))^(3/2) = (kg / (J/K * K))^(3/2) = m^-3 s^3\u001b[39;00m\n\u001b[32m     36\u001b[39m norm_const_val = norm_const_val * (ureg.kg / (ureg.joule / ureg.kelvin * ureg.kelvin))**(\u001b[32m3\u001b[39m/\u001b[32m2\u001b[39m)\n",
      "\u001b[36mFile \u001b[39m\u001b[32m~/atmoescape/.venv/lib64/python3.12/site-packages/sympy/core/decorators.py:243\u001b[39m, in \u001b[36m_SympifyWrapper.make_wrapped.<locals>._func\u001b[39m\u001b[34m(self, other)\u001b[39m\n\u001b[32m    241\u001b[39m \u001b[38;5;28;01mif\u001b[39;00m \u001b[38;5;129;01mnot\u001b[39;00m \u001b[38;5;28mhasattr\u001b[39m(other, \u001b[33m'\u001b[39m\u001b[33m_op_priority\u001b[39m\u001b[33m'\u001b[39m):\n\u001b[32m    242\u001b[39m     \u001b[38;5;28;01mtry\u001b[39;00m:\n\u001b[32m--> \u001b[39m\u001b[32m243\u001b[39m         other = \u001b[43msympify\u001b[49m\u001b[43m(\u001b[49m\u001b[43mother\u001b[49m\u001b[43m,\u001b[49m\u001b[43m \u001b[49m\u001b[43mstrict\u001b[49m\u001b[43m=\u001b[49m\u001b[38;5;28;43;01mTrue\u001b[39;49;00m\u001b[43m)\u001b[49m\n\u001b[32m    244\u001b[39m     \u001b[38;5;28;01mexcept\u001b[39;00m SympifyError:\n\u001b[32m    245\u001b[39m         \u001b[38;5;28;01mreturn\u001b[39;00m retval\n",
      "\u001b[36mFile \u001b[39m\u001b[32m~/atmoescape/.venv/lib64/python3.12/site-packages/sympy/core/sympify.py:475\u001b[39m, in \u001b[36msympify\u001b[39m\u001b[34m(a, locals, convert_xor, strict, rational, evaluate)\u001b[39m\n\u001b[32m    471\u001b[39m                 \u001b[38;5;28;01mpass\u001b[39;00m\n\u001b[32m    472\u001b[39m \u001b[38;5;28;01melif\u001b[39;00m \u001b[38;5;28mhasattr\u001b[39m(a, \u001b[33m'\u001b[39m\u001b[33m__float__\u001b[39m\u001b[33m'\u001b[39m):\n\u001b[32m    473\u001b[39m     \u001b[38;5;66;03m# float and int can coerce size-one numpy arrays to their lone\u001b[39;00m\n\u001b[32m    474\u001b[39m     \u001b[38;5;66;03m# element.  See issue https://github.com/numpy/numpy/issues/10404.\u001b[39;00m\n\u001b[32m--> \u001b[39m\u001b[32m475\u001b[39m     \u001b[38;5;28;01mreturn\u001b[39;00m sympify(\u001b[38;5;28;43mfloat\u001b[39;49m\u001b[43m(\u001b[49m\u001b[43ma\u001b[49m\u001b[43m)\u001b[49m)\n\u001b[32m    476\u001b[39m \u001b[38;5;28;01melif\u001b[39;00m \u001b[38;5;28mhasattr\u001b[39m(a, \u001b[33m'\u001b[39m\u001b[33m__int__\u001b[39m\u001b[33m'\u001b[39m):\n\u001b[32m    477\u001b[39m     \u001b[38;5;28;01mreturn\u001b[39;00m sympify(\u001b[38;5;28mint\u001b[39m(a))\n",
      "\u001b[36mFile \u001b[39m\u001b[32m~/atmoescape/.venv/lib64/python3.12/site-packages/uncertainties/ops.py:285\u001b[39m, in \u001b[36madd_arithmetic_ops.<locals>.raise_error\u001b[39m\u001b[34m(self)\u001b[39m\n\u001b[32m    284\u001b[39m \u001b[38;5;28;01mdef\u001b[39;00m\u001b[38;5;250m \u001b[39m\u001b[34mraise_error\u001b[39m(\u001b[38;5;28mself\u001b[39m):\n\u001b[32m--> \u001b[39m\u001b[32m285\u001b[39m     \u001b[38;5;28;01mraise\u001b[39;00m \u001b[38;5;167;01mTypeError\u001b[39;00m(\n\u001b[32m    286\u001b[39m         \u001b[33m\"\u001b[39m\u001b[33mcan\u001b[39m\u001b[33m'\u001b[39m\u001b[33mt convert an affine function (\u001b[39m\u001b[38;5;132;01m%s\u001b[39;00m\u001b[33m)\u001b[39m\u001b[33m\"\u001b[39m\n\u001b[32m    287\u001b[39m         \u001b[33m\"\u001b[39m\u001b[33m to \u001b[39m\u001b[38;5;132;01m%s\u001b[39;00m\u001b[33m; use x.nominal_value\u001b[39m\u001b[33m\"\u001b[39m % (\u001b[38;5;28mself\u001b[39m.\u001b[34m__class__\u001b[39m, coercion_type)\n\u001b[32m    288\u001b[39m         \u001b[38;5;66;03m# In case AffineScalarFunc is sub-classed:\u001b[39;00m\n\u001b[32m    289\u001b[39m     )\n",
      "\u001b[31mTypeError\u001b[39m: can't convert an affine function (<class 'uncertainties.core.AffineScalarFunc'>) to float; use x.nominal_value"
     ]
    }
   ],
   "source": [
    "import sympy as sp\n",
    "from pint import UnitRegistry\n",
    "from uncertainties import ufloat\n",
    "\n",
    "# SymPy symbols\n",
    "m, k, T = sp.symbols('m k T', positive=True)\n",
    "v, theta, phi = sp.symbols('v theta phi', real=True)\n",
    "\n",
    "# Define the integrand\n",
    "norm_const = (m / (2 * sp.pi * k * T))**(3/2)\n",
    "f = norm_const * sp.exp(-m * v**2 / (2 * k * T)) * v**2 * sp.sin(theta)\n",
    "\n",
    "# Perform the integrations\n",
    "int_phi = sp.integrate(f, (phi, -sp.pi, sp.pi))\n",
    "int_theta = sp.integrate(int_phi, (theta, 0, sp.pi))\n",
    "result = sp.integrate(int_theta, (v, 0, sp.oo))\n",
    "result_simplified = sp.simplify(result)\n",
    "print(\"Symbolic result:\", result_simplified)  # Should be 1 (normalized)\n",
    "\n",
    "# Numerical evaluation with ufloat and pint\n",
    "ureg = UnitRegistry()\n",
    "\n",
    "# Define constants as pint Quantities with ufloat\n",
    "m = ufloat(1.67e-27, 0) * ureg.kg  # Hydrogen mass\n",
    "k = ufloat(1.380649e-23, 0) * ureg.joule / ureg.kelvin  # Boltzmann constant\n",
    "T = ufloat(1000, 200) * ureg.kelvin  # Exobase temperature\n",
    "\n",
    "# Compute normalization constant: (m / (2 * pi * k * T))**(3/2)\n",
    "# Extract magnitudes (ufloat) for SymPy\n",
    "m_val = m.magnitude  # ufloat\n",
    "k_val = k.magnitude  # ufloat\n",
    "T_val = T.magnitude  # ufloat\n",
    "norm_const_val = (m_val / (2 * sp.pi * k_val * T_val))**(3/2)\n",
    "\n",
    "# Reattach units: units of (m / (k * T))^(3/2) = (kg / (J/K * K))^(3/2) = m^-3 s^3\n",
    "norm_const_val = norm_const_val * (ureg.kg / (ureg.joule / ureg.kelvin * ureg.kelvin))**(3/2)\n",
    "print(f\"Normalization constant: {norm_const_val:~P}\")  # ~2.47e25 ± 0.49e25 m^-3 s^3"
   ]
  },
  {
   "cell_type": "code",
   "execution_count": 6,
   "metadata": {},
   "outputs": [
    {
     "data": {
      "text/html": [
       "6.6743×10<sup>-11</sup> meter<sup>3</sup>/(kilogram second<sup>2</sup>)"
      ],
      "text/latex": [
       "$6.6743\\times 10^{-11}\\ \\frac{\\mathrm{meter}^{3}}{\\left(\\mathrm{kilogram} \\cdot \\mathrm{second}^{2}\\right)}$"
      ],
      "text/plain": [
       "<Quantity(6.6743e-11, 'meter ** 3 / kilogram / second ** 2')>"
      ]
     },
     "execution_count": 6,
     "metadata": {},
     "output_type": "execute_result"
    }
   ],
   "source": [
    "(1.0 * ureg.gravitational_constant).to_base_units()"
   ]
  }
 ],
 "metadata": {
  "kernelspec": {
   "display_name": ".venv",
   "language": "python",
   "name": "python3"
  },
  "language_info": {
   "codemirror_mode": {
    "name": "ipython",
    "version": 3
   },
   "file_extension": ".py",
   "mimetype": "text/x-python",
   "name": "python",
   "nbconvert_exporter": "python",
   "pygments_lexer": "ipython3",
   "version": "3.12.5"
  }
 },
 "nbformat": 4,
 "nbformat_minor": 2
}
