{
 "cells": [
  {
   "cell_type": "code",
   "execution_count": 10,
   "metadata": {},
   "outputs": [
    {
     "name": "stdout",
     "output_type": "stream",
     "text": [
      "Symbolic result: 0.707106781186548*sqrt(2)\n",
      "Normalization constant: (2.7+/-0.8)e-12 kg¹⋅⁵/J¹⋅⁵\n"
     ]
    }
   ],
   "source": [
    "import sympy as sp\n",
    "from pint import UnitRegistry\n",
    "from uncertainties import ufloat\n",
    "import math\n",
    "\n",
    "# SymPy symbols\n",
    "m, k, T = sp.symbols('m k T', positive=True)\n",
    "v, theta, phi = sp.symbols('v theta phi', real=True)\n",
    "\n",
    "# Define the integrand\n",
    "norm_const = (m / (2 * sp.pi * k * T))**(3/2)\n",
    "f = norm_const * sp.exp(-m * v**2 / (2 * k * T)) * v**2 * sp.sin(theta)\n",
    "\n",
    "# Perform the integrations\n",
    "int_phi = sp.integrate(f, (phi, -sp.pi, sp.pi))\n",
    "int_theta = sp.integrate(int_phi, (theta, 0, sp.pi))\n",
    "result = sp.integrate(int_theta, (v, 0, sp.oo))\n",
    "result_simplified = sp.simplify(result)\n",
    "print(\"Symbolic result:\", result_simplified)  # Should be 1 (normalized)\n",
    "\n",
    "# Numerical evaluation with ufloat and pint\n",
    "ureg = UnitRegistry()\n",
    "\n",
    "# Define constants as pint Quantities with ufloat\n",
    "m = ufloat(1.67e-27, 0) * ureg.kg  # Hydrogen mass\n",
    "k = ufloat(1.380649e-23, 0) * ureg.joule / ureg.kelvin  # Boltzmann constant\n",
    "T = ufloat(1000, 200) * ureg.kelvin  # Exobase temperature\n",
    "\n",
    "# Compute normalization constant: (m / (2 * pi * k * T))**(3/2)\n",
    "# Extract ufloat magnitudes\n",
    "m_val = m.magnitude  # ufloat\n",
    "k_val = k.magnitude  # ufloat\n",
    "T_val = T.magnitude  # ufloat\n",
    "\n",
    "# Perform numerical computation with ufloat directly (avoid SymPy for numerics)\n",
    "norm_const_val = (m_val / (2 * math.pi * k_val * T_val))**(3/2)\n",
    "\n",
    "# Reattach units: units of (m / (k * T))^(3/2) = (kg / (J/K * K))^(3/2) = m^-3 s^3\n",
    "norm_const_val = norm_const_val * (ureg.kg / (ureg.joule / ureg.kelvin * ureg.kelvin))**(3/2)\n",
    "print(f\"Normalization constant: {norm_const_val:~P}\")  # ~2.47e25 ± 0.49e25 m^-3 s^3"
   ]
  },
  {
   "cell_type": "code",
   "execution_count": 6,
   "metadata": {},
   "outputs": [
    {
     "data": {
      "text/html": [
       "6.6743×10<sup>-11</sup> meter<sup>3</sup>/(kilogram second<sup>2</sup>)"
      ],
      "text/latex": [
       "$6.6743\\times 10^{-11}\\ \\frac{\\mathrm{meter}^{3}}{\\left(\\mathrm{kilogram} \\cdot \\mathrm{second}^{2}\\right)}$"
      ],
      "text/plain": [
       "<Quantity(6.6743e-11, 'meter ** 3 / kilogram / second ** 2')>"
      ]
     },
     "execution_count": 6,
     "metadata": {},
     "output_type": "execute_result"
    }
   ],
   "source": [
    "(1.0 * ureg.gravitational_constant).to_base_units()"
   ]
  }
 ],
 "metadata": {
  "kernelspec": {
   "display_name": ".venv",
   "language": "python",
   "name": "python3"
  },
  "language_info": {
   "codemirror_mode": {
    "name": "ipython",
    "version": 3
   },
   "file_extension": ".py",
   "mimetype": "text/x-python",
   "name": "python",
   "nbconvert_exporter": "python",
   "pygments_lexer": "ipython3",
   "version": "3.12.5"
  }
 },
 "nbformat": 4,
 "nbformat_minor": 2
}
