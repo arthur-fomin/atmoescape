{
 "cells": [
  {
   "cell_type": "code",
   "execution_count": 11,
   "metadata": {},
   "outputs": [
    {
     "name": "stdout",
     "output_type": "stream",
     "text": [
      "Symbolic result:\n",
      "                                                                          2 \n",
      "                                                                  -m⋅v_esc  \n",
      "                                                                  ──────────\n",
      "                   -0.5  -0.5  -0.5  -0.5     ⎛               2⎞    2⋅T⋅k   \n",
      "0.353553390593274⋅π    ⋅T    ⋅k    ⋅m    ⋅n_H⋅⎝2⋅T⋅k + m⋅v_esc ⎠⋅ℯ          \n"
     ]
    }
   ],
   "source": [
    "import sympy as sp\n",
    "\n",
    "# Define symbols\n",
    "n_H, m, k, T, v_esc = sp.symbols('n_H m k T v_esc', positive=True)\n",
    "v, theta, phi = sp.symbols('v theta phi', real=True)\n",
    "\n",
    "# Define the normalization constant\n",
    "norm_const = n_H * (m / (2 * sp.pi * k * T))**(3/2)\n",
    "\n",
    "# Define the integrand\n",
    "f = norm_const * sp.exp(-m * v**2 / (2 * k * T)) * v**3 * sp.sin(theta) * sp.cos(theta)\n",
    "\n",
    "# Perform the integrations\n",
    "# 1. Integrate over phi: -pi to pi\n",
    "int_phi = sp.integrate(f, (phi, -sp.pi, sp.pi))\n",
    "\n",
    "# 2. Integrate over theta: 0 to pi/2\n",
    "int_theta = sp.integrate(int_phi, (theta, 0, sp.pi/2))\n",
    "\n",
    "# 3. Integrate over v: v_esc to infinity\n",
    "int_v = sp.integrate(int_theta, (v, v_esc, sp.oo))\n",
    "\n",
    "# Simplify the result\n",
    "result = sp.simplify(int_v)\n",
    "\n",
    "print(\"Symbolic result:\")\n",
    "sp.pprint(result)"
   ]
  },
  {
   "cell_type": "code",
   "execution_count": 6,
   "metadata": {},
   "outputs": [
    {
     "data": {
      "text/html": [
       "6.6743×10<sup>-11</sup> meter<sup>3</sup>/(kilogram second<sup>2</sup>)"
      ],
      "text/latex": [
       "$6.6743\\times 10^{-11}\\ \\frac{\\mathrm{meter}^{3}}{\\left(\\mathrm{kilogram} \\cdot \\mathrm{second}^{2}\\right)}$"
      ],
      "text/plain": [
       "<Quantity(6.6743e-11, 'meter ** 3 / kilogram / second ** 2')>"
      ]
     },
     "execution_count": 6,
     "metadata": {},
     "output_type": "execute_result"
    }
   ],
   "source": [
    "(1.0 * ureg.gravitational_constant).to_base_units()"
   ]
  }
 ],
 "metadata": {
  "kernelspec": {
   "display_name": ".venv",
   "language": "python",
   "name": "python3"
  },
  "language_info": {
   "codemirror_mode": {
    "name": "ipython",
    "version": 3
   },
   "file_extension": ".py",
   "mimetype": "text/x-python",
   "name": "python",
   "nbconvert_exporter": "python",
   "pygments_lexer": "ipython3",
   "version": "3.12.5"
  }
 },
 "nbformat": 4,
 "nbformat_minor": 2
}
