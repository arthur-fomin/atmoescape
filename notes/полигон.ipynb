{
 "cells": [
  {
   "cell_type": "code",
   "execution_count": 7,
   "metadata": {},
   "outputs": [
    {
     "name": "stdout",
     "output_type": "stream",
     "text": [
      "Escape velocity at (6.0+/-1.0)e+02 kilometer: 10.69+/-0.08 km/s\n",
      "Pressure: (1.4+/-0.4)e-08 Pa\n",
      "Log pressure: 34.54+/-0.28\n"
     ]
    },
    {
     "name": "stderr",
     "output_type": "stream",
     "text": [
      "/home/artur/atmoescape/.venv/lib64/python3.12/site-packages/uncertainties/core.py:1024: UserWarning: Using UFloat objects with std_dev==0 may give unexpected results.\n",
      "  warn(\"Using UFloat objects with std_dev==0 may give unexpected results.\")\n"
     ]
    }
   ],
   "source": [
    "from pint import UnitRegistry\n",
    "from uncertainties import ufloat\n",
    "from uncertainties.umath import log\n",
    "\n",
    "ureg = UnitRegistry()\n",
    "\n",
    "# Constants\n",
    "G = ufloat(6.67430e-11, 1.5e-15) * ureg.m**3 / ureg.kg / ureg.s**2  # Gravitational constant\n",
    "M_earth = ufloat(5.9722e24, 1.2e21) * ureg.kg  # Earth's mass\n",
    "R_earth = ufloat(6.371e6, 1e4) * ureg.m  # Earth's radius: 6.371e6 ± 1e4 m\n",
    "h = ufloat(600e3, 100e3) * ureg.m  # Exobase height: 600 ± 100 km\n",
    "r = R_earth + h\n",
    "k = ureg.boltzmann_constant\n",
    "T = ufloat(1000, 200) * ureg.kelvin  # 1000 ± 200 K\n",
    "m = ufloat(1.67e-27, 0) * ureg.kg  # Hydrogen atom mass\n",
    "n = ufloat(1e6, 0.2e6) * ureg.cm**-3  # Density: (1 ± 0.2)e6 cm⁻³\n",
    "n = n.to('m**-3')\n",
    "\n",
    "# Escape velocity\n",
    "v_esc = (2 * G * M_earth / r)**(1/2)\n",
    "print(f\"Escape velocity at {h.to('km')}: {v_esc.to('km/s'):~P}\")  # ~10.83 ± 0.02 km/s\n",
    "\n",
    "# Pressure\n",
    "pressure = n * k * T\n",
    "print(f\"Pressure: {pressure.to('pascal'):~P}\")  # ~1.38e-14 ± 2.76e-15 Pa\n",
    "print(f\"Log pressure: {log(pressure.magnitude)}\")  # ~-32.20 ± 0.20"
   ]
  },
  {
   "cell_type": "code",
   "execution_count": 6,
   "metadata": {},
   "outputs": [
    {
     "data": {
      "text/html": [
       "6.6743×10<sup>-11</sup> meter<sup>3</sup>/(kilogram second<sup>2</sup>)"
      ],
      "text/latex": [
       "$6.6743\\times 10^{-11}\\ \\frac{\\mathrm{meter}^{3}}{\\left(\\mathrm{kilogram} \\cdot \\mathrm{second}^{2}\\right)}$"
      ],
      "text/plain": [
       "<Quantity(6.6743e-11, 'meter ** 3 / kilogram / second ** 2')>"
      ]
     },
     "execution_count": 6,
     "metadata": {},
     "output_type": "execute_result"
    }
   ],
   "source": [
    "(1.0 * ureg.gravitational_constant).to_base_units()"
   ]
  }
 ],
 "metadata": {
  "kernelspec": {
   "display_name": ".venv",
   "language": "python",
   "name": "python3"
  },
  "language_info": {
   "codemirror_mode": {
    "name": "ipython",
    "version": 3
   },
   "file_extension": ".py",
   "mimetype": "text/x-python",
   "name": "python",
   "nbconvert_exporter": "python",
   "pygments_lexer": "ipython3",
   "version": "3.12.5"
  }
 },
 "nbformat": 4,
 "nbformat_minor": 2
}
