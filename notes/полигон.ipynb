{
 "cells": [
  {
   "cell_type": "code",
   "execution_count": 3,
   "metadata": {},
   "outputs": [
    {
     "name": "stdout",
     "output_type": "stream",
     "text": [
      "Gravitational constant: newtonian_constant_of_gravitation\n",
      "<class 'pint.Unit'>\n",
      "Gravitational constant: newtonian_constant_of_gravitation\n"
     ]
    },
    {
     "ename": "AttributeError",
     "evalue": "'Unit' object has no attribute 'magnitude'",
     "output_type": "error",
     "traceback": [
      "\u001b[31m---------------------------------------------------------------------------\u001b[39m",
      "\u001b[31mAttributeError\u001b[39m                            Traceback (most recent call last)",
      "\u001b[36mCell\u001b[39m\u001b[36m \u001b[39m\u001b[32mIn[3]\u001b[39m\u001b[32m, line 7\u001b[39m\n\u001b[32m      5\u001b[39m \u001b[38;5;28mprint\u001b[39m(\u001b[38;5;28mtype\u001b[39m(G))  \u001b[38;5;66;03m# Should print: <class 'pint.Quantity'>\u001b[39;00m\n\u001b[32m      6\u001b[39m \u001b[38;5;28mprint\u001b[39m(\u001b[33mf\u001b[39m\u001b[33m\"\u001b[39m\u001b[33mGravitational constant: \u001b[39m\u001b[38;5;132;01m{\u001b[39;00mG\u001b[38;5;132;01m:\u001b[39;00m\u001b[33m~P\u001b[39m\u001b[38;5;132;01m}\u001b[39;00m\u001b[33m\"\u001b[39m)  \u001b[38;5;66;03m# Should print: 6.6743e-11 m³/(kg s²)\u001b[39;00m\n\u001b[32m----> \u001b[39m\u001b[32m7\u001b[39m \u001b[38;5;28mprint\u001b[39m(\u001b[33mf\u001b[39m\u001b[33m\"\u001b[39m\u001b[33mValue: \u001b[39m\u001b[38;5;132;01m{\u001b[39;00m\u001b[43mG\u001b[49m\u001b[43m.\u001b[49m\u001b[43mmagnitude\u001b[49m\u001b[38;5;132;01m:\u001b[39;00m\u001b[33m.6e\u001b[39m\u001b[38;5;132;01m}\u001b[39;00m\u001b[33m\"\u001b[39m)  \u001b[38;5;66;03m# Should print: 6.674300e-11\u001b[39;00m\n\u001b[32m      8\u001b[39m \u001b[38;5;28mprint\u001b[39m(\u001b[33mf\u001b[39m\u001b[33m\"\u001b[39m\u001b[33mUnits: \u001b[39m\u001b[38;5;132;01m{\u001b[39;00mG.units\u001b[38;5;132;01m}\u001b[39;00m\u001b[33m\"\u001b[39m)  \u001b[38;5;66;03m# Should print: meter ** 3 / kilogram / second ** 2\u001b[39;00m\n",
      "\u001b[31mAttributeError\u001b[39m: 'Unit' object has no attribute 'magnitude'"
     ]
    }
   ],
   "source": [
    "from pint import UnitRegistry\n",
    "ureg = UnitRegistry(system='SI')  # Use default SI registry\n",
    "G = ureg.gravitational_constant\n",
    "print(f\"Gravitational constant: {G:~P}\")\n",
    "print(type(G))  # Should print: <class 'pint.Quantity'>\n",
    "print(f\"Gravitational constant: {G:~P}\")  # Should print: 6.6743e-11 m³/(kg s²)\n",
    "print(f\"Value: {G.magnitude:.6e}\")  # Should print: 6.674300e-11\n",
    "print(f\"Units: {G.units}\")  # Should print: meter ** 3 / kilogram / second ** 2"
   ]
  },
  {
   "cell_type": "code",
   "execution_count": null,
   "metadata": {},
   "outputs": [],
   "source": []
  }
 ],
 "metadata": {
  "kernelspec": {
   "display_name": ".venv",
   "language": "python",
   "name": "python3"
  },
  "language_info": {
   "codemirror_mode": {
    "name": "ipython",
    "version": 3
   },
   "file_extension": ".py",
   "mimetype": "text/x-python",
   "name": "python",
   "nbconvert_exporter": "python",
   "pygments_lexer": "ipython3",
   "version": "3.12.5"
  }
 },
 "nbformat": 4,
 "nbformat_minor": 2
}
