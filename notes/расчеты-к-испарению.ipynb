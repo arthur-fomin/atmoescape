{
 "cells": [
  {
   "cell_type": "markdown",
   "metadata": {},
   "source": [
    "Будем использовать физическими величинами с измерениями. Модуль PhysicalQuantities сломался, не обновлялся два года, поэтому придется попробовать новое."
   ]
  },
  {
   "cell_type": "code",
   "execution_count": 8,
   "metadata": {},
   "outputs": [],
   "source": [
    "from pint import UnitRegistry\n",
    "from uncertainties import ufloat"
   ]
  },
  {
   "cell_type": "code",
   "execution_count": 9,
   "metadata": {},
   "outputs": [
    {
     "name": "stdout",
     "output_type": "stream",
     "text": [
      "10.0+/-0.5 meter\n"
     ]
    }
   ],
   "source": [
    "ureg = UnitRegistry()\n",
    "length = ufloat(10, 0.5) * ureg.meter\n",
    "print(length)  # (10 ± 0.5) m\n"
   ]
  },
  {
   "cell_type": "code",
   "execution_count": 12,
   "metadata": {},
   "outputs": [
    {
     "data": {
      "text/html": [
       "200+/-10 kilometer"
      ],
      "text/latex": [
       "$200+/-10\\ \\mathrm{kilometer}$"
      ],
      "text/plain": [
       "<Quantity(200.000+/-10.000, 'kilometer')>"
      ]
     },
     "execution_count": 12,
     "metadata": {},
     "output_type": "execute_result"
    }
   ],
   "source": [
    "H_отсчета = ufloat(200, 10) * ureg.kilometer\n",
    "H_отсчета"
   ]
  },
  {
   "cell_type": "code",
   "execution_count": 10,
   "metadata": {},
   "outputs": [
    {
     "data": {
      "text/html": [
       "(8.5+/-1.0)e-05 pascal"
      ],
      "text/latex": [
       "$(8.5+/-1.0)e-05\\ \\mathrm{pascal}$"
      ],
      "text/plain": [
       "<Quantity((8.53000+/-1.00000)e-05, 'pascal')>"
      ]
     },
     "execution_count": 10,
     "metadata": {},
     "output_type": "execute_result"
    }
   ],
   "source": [
    "P_отсчета =  ufloat(8.53, 1)* 1e-5 * ureg.pascal\n",
    "P_отсчета"
   ]
  },
  {
   "cell_type": "code",
   "execution_count": 13,
   "metadata": {},
   "outputs": [
    {
     "data": {
      "text/html": [
       "60+/-10 kilometer"
      ],
      "text/latex": [
       "$60+/-10\\ \\mathrm{kilometer}$"
      ],
      "text/plain": [
       "<Quantity(60.0000+/-10.0000, 'kilometer')>"
      ]
     },
     "execution_count": 13,
     "metadata": {},
     "output_type": "execute_result"
    }
   ],
   "source": [
    "H = ufloat(60, 10) * ureg.kilometer\n",
    "H"
   ]
  },
  {
   "cell_type": "code",
   "execution_count": 15,
   "metadata": {},
   "outputs": [
    {
     "data": {
      "text/html": [
       "8.0+/-3.0 angstrom<sup>2</sup>"
      ],
      "text/latex": [
       "$8.0+/-3.0\\ \\mathrm{angstrom}^{2}$"
      ],
      "text/plain": [
       "<Quantity(8.00000+/-3.00000, 'angstrom ** 2')>"
      ]
     },
     "execution_count": 15,
     "metadata": {},
     "output_type": "execute_result"
    }
   ],
   "source": [
    "σ = ufloat(8, 3) * ureg.angstrom * ureg.angstrom\n",
    "σ"
   ]
  },
  {
   "cell_type": "code",
   "execution_count": 16,
   "metadata": {},
   "outputs": [
    {
     "data": {
      "text/html": [
       "(8.5+/-2.0)e+02 kelvin"
      ],
      "text/latex": [
       "$(8.5+/-2.0)e+02\\ \\mathrm{kelvin}$"
      ],
      "text/plain": [
       "<Quantity(854.400+/-200.000, 'kelvin')>"
      ]
     },
     "execution_count": 16,
     "metadata": {},
     "output_type": "execute_result"
    }
   ],
   "source": [
    "T_отсчета = ufloat(854.4, 200) * ureg.kelvin\n",
    "T_отсчета"
   ]
  },
  {
   "cell_type": "code",
   "execution_count": 17,
   "metadata": {},
   "outputs": [
    {
     "data": {
      "text/html": [
       "(1.00+/-0.20)e+03 kelvin"
      ],
      "text/latex": [
       "$(1.00+/-0.20)e+03\\ \\mathrm{kelvin}$"
      ],
      "text/plain": [
       "<Quantity(1000.00+/-200.00, 'kelvin')>"
      ]
     },
     "execution_count": 17,
     "metadata": {},
     "output_type": "execute_result"
    }
   ],
   "source": [
    "T_экзосферы = ufloat(1000, 200) * ureg.kelvin\n",
    "T_экзосферы"
   ]
  },
  {
   "cell_type": "code",
   "execution_count": 28,
   "metadata": {},
   "outputs": [
    {
     "ename": "OffsetUnitCalculusError",
     "evalue": "Ambiguous operation with offset unit (degree_Celsius). See https://pint.readthedocs.io/en/stable/user/nonmult.html for guidance.",
     "output_type": "error",
     "traceback": [
      "\u001b[31m---------------------------------------------------------------------------\u001b[39m",
      "\u001b[31mOffsetUnitCalculusError\u001b[39m                   Traceback (most recent call last)",
      "\u001b[36mCell\u001b[39m\u001b[36m \u001b[39m\u001b[32mIn[28]\u001b[39m\u001b[32m, line 1\u001b[39m\n\u001b[32m----> \u001b[39m\u001b[32m1\u001b[39m T1=\u001b[32;43m200\u001b[39;49m\u001b[43m*\u001b[49m\u001b[43mureg\u001b[49m\u001b[43m.\u001b[49m\u001b[43mdegC\u001b[49m\n\u001b[32m      2\u001b[39m T2=T1.to(ureg.degK)\n\u001b[32m      3\u001b[39m m=\u001b[32m132.9054519\u001b[39m*ureg.amu\n",
      "\u001b[36mFile \u001b[39m\u001b[32m~/atmoescape/.venv/lib64/python3.12/site-packages/pint/facets/plain/unit.py:155\u001b[39m, in \u001b[36mPlainUnit.__mul__\u001b[39m\u001b[34m(self, other)\u001b[39m\n\u001b[32m    152\u001b[39m \u001b[38;5;28;01mif\u001b[39;00m \u001b[38;5;28misinstance\u001b[39m(other, Number) \u001b[38;5;129;01mand\u001b[39;00m other == \u001b[32m1\u001b[39m:\n\u001b[32m    153\u001b[39m     \u001b[38;5;28;01mreturn\u001b[39;00m \u001b[38;5;28mself\u001b[39m._REGISTRY.Quantity(other, \u001b[38;5;28mself\u001b[39m._units)\n\u001b[32m--> \u001b[39m\u001b[32m155\u001b[39m \u001b[38;5;28;01mreturn\u001b[39;00m \u001b[38;5;28;43mself\u001b[39;49m\u001b[43m.\u001b[49m\u001b[43m_REGISTRY\u001b[49m\u001b[43m.\u001b[49m\u001b[43mQuantity\u001b[49m\u001b[43m(\u001b[49m\u001b[32;43m1\u001b[39;49m\u001b[43m,\u001b[49m\u001b[43m \u001b[49m\u001b[38;5;28;43mself\u001b[39;49m\u001b[43m.\u001b[49m\u001b[43m_units\u001b[49m\u001b[43m)\u001b[49m\u001b[43m \u001b[49m\u001b[43m*\u001b[49m\u001b[43m \u001b[49m\u001b[43mother\u001b[49m\n",
      "\u001b[36mFile \u001b[39m\u001b[32m~/atmoescape/.venv/lib64/python3.12/site-packages/pint/facets/plain/quantity.py:1018\u001b[39m, in \u001b[36mPlainQuantity.__mul__\u001b[39m\u001b[34m(self, other)\u001b[39m\n\u001b[32m   1017\u001b[39m \u001b[38;5;28;01mdef\u001b[39;00m\u001b[38;5;250m \u001b[39m\u001b[34m__mul__\u001b[39m(\u001b[38;5;28mself\u001b[39m, other):\n\u001b[32m-> \u001b[39m\u001b[32m1018\u001b[39m     \u001b[38;5;28;01mreturn\u001b[39;00m \u001b[38;5;28;43mself\u001b[39;49m\u001b[43m.\u001b[49m\u001b[43m_mul_div\u001b[49m\u001b[43m(\u001b[49m\u001b[43mother\u001b[49m\u001b[43m,\u001b[49m\u001b[43m \u001b[49m\u001b[43moperator\u001b[49m\u001b[43m.\u001b[49m\u001b[43mmul\u001b[49m\u001b[43m)\u001b[49m\n",
      "\u001b[36mFile \u001b[39m\u001b[32m~/atmoescape/.venv/lib64/python3.12/site-packages/pint/facets/plain/quantity.py:101\u001b[39m, in \u001b[36mcheck_implemented.<locals>.wrapped\u001b[39m\u001b[34m(self, *args, **kwargs)\u001b[39m\n\u001b[32m     99\u001b[39m \u001b[38;5;28;01melif\u001b[39;00m \u001b[38;5;28misinstance\u001b[39m(other, \u001b[38;5;28mlist\u001b[39m) \u001b[38;5;129;01mand\u001b[39;00m other \u001b[38;5;129;01mand\u001b[39;00m \u001b[38;5;28misinstance\u001b[39m(other[\u001b[32m0\u001b[39m], \u001b[38;5;28mtype\u001b[39m(\u001b[38;5;28mself\u001b[39m)):\n\u001b[32m    100\u001b[39m     \u001b[38;5;28;01mreturn\u001b[39;00m \u001b[38;5;28mNotImplemented\u001b[39m\n\u001b[32m--> \u001b[39m\u001b[32m101\u001b[39m \u001b[38;5;28;01mreturn\u001b[39;00m \u001b[43mf\u001b[49m\u001b[43m(\u001b[49m\u001b[38;5;28;43mself\u001b[39;49m\u001b[43m,\u001b[49m\u001b[43m \u001b[49m\u001b[43m*\u001b[49m\u001b[43margs\u001b[49m\u001b[43m,\u001b[49m\u001b[43m \u001b[49m\u001b[43m*\u001b[49m\u001b[43m*\u001b[49m\u001b[43mkwargs\u001b[49m\u001b[43m)\u001b[49m\n",
      "\u001b[36mFile \u001b[39m\u001b[32m~/atmoescape/.venv/lib64/python3.12/site-packages/pint/facets/plain/quantity.py:75\u001b[39m, in \u001b[36mireduce_dimensions.<locals>.wrapped\u001b[39m\u001b[34m(self, *args, **kwargs)\u001b[39m\n\u001b[32m     74\u001b[39m \u001b[38;5;28;01mdef\u001b[39;00m\u001b[38;5;250m \u001b[39m\u001b[34mwrapped\u001b[39m(\u001b[38;5;28mself\u001b[39m, *args, **kwargs):\n\u001b[32m---> \u001b[39m\u001b[32m75\u001b[39m     result = \u001b[43mf\u001b[49m\u001b[43m(\u001b[49m\u001b[38;5;28;43mself\u001b[39;49m\u001b[43m,\u001b[49m\u001b[43m \u001b[49m\u001b[43m*\u001b[49m\u001b[43margs\u001b[49m\u001b[43m,\u001b[49m\u001b[43m \u001b[49m\u001b[43m*\u001b[49m\u001b[43m*\u001b[49m\u001b[43mkwargs\u001b[49m\u001b[43m)\u001b[49m\n\u001b[32m     76\u001b[39m     \u001b[38;5;28;01mtry\u001b[39;00m:\n\u001b[32m     77\u001b[39m         \u001b[38;5;28;01mif\u001b[39;00m result._REGISTRY.autoconvert_to_preferred:\n",
      "\u001b[36mFile \u001b[39m\u001b[32m~/atmoescape/.venv/lib64/python3.12/site-packages/pint/facets/plain/quantity.py:966\u001b[39m, in \u001b[36mPlainQuantity._mul_div\u001b[39m\u001b[34m(self, other, magnitude_op, units_op)\u001b[39m\n\u001b[32m    964\u001b[39m \u001b[38;5;28;01mif\u001b[39;00m \u001b[38;5;129;01mnot\u001b[39;00m \u001b[38;5;28mself\u001b[39m._check(other):\n\u001b[32m    965\u001b[39m     \u001b[38;5;28;01mif\u001b[39;00m \u001b[38;5;129;01mnot\u001b[39;00m \u001b[38;5;28mself\u001b[39m._ok_for_muldiv(no_offset_units_self):\n\u001b[32m--> \u001b[39m\u001b[32m966\u001b[39m         \u001b[38;5;28;01mraise\u001b[39;00m OffsetUnitCalculusError(\u001b[38;5;28mself\u001b[39m._units, \u001b[38;5;28mgetattr\u001b[39m(other, \u001b[33m\"\u001b[39m\u001b[33munits\u001b[39m\u001b[33m\"\u001b[39m, \u001b[33m\"\u001b[39m\u001b[33m\"\u001b[39m))\n\u001b[32m    967\u001b[39m     \u001b[38;5;28;01mif\u001b[39;00m \u001b[38;5;28mlen\u001b[39m(offset_units_self) == \u001b[32m1\u001b[39m:\n\u001b[32m    968\u001b[39m         \u001b[38;5;28;01mif\u001b[39;00m \u001b[38;5;28mself\u001b[39m._units[offset_units_self[\u001b[32m0\u001b[39m]] != \u001b[32m1\u001b[39m \u001b[38;5;129;01mor\u001b[39;00m magnitude_op \u001b[38;5;129;01mnot\u001b[39;00m \u001b[38;5;129;01min\u001b[39;00m (\n\u001b[32m    969\u001b[39m             operator.mul,\n\u001b[32m    970\u001b[39m             operator.imul,\n\u001b[32m    971\u001b[39m         ):\n",
      "\u001b[31mOffsetUnitCalculusError\u001b[39m: Ambiguous operation with offset unit (degree_Celsius). See https://pint.readthedocs.io/en/stable/user/nonmult.html for guidance."
     ]
    }
   ],
   "source": [
    "T1=200*ureg.degC\n",
    "T2=T1.to(ureg.degK)\n",
    "m=132.9054519*ureg.amu\n",
    "v1=2*ureg.k*T1/m\n",
    "v2=2*ureg.k*T2/m"
   ]
  },
  {
   "cell_type": "code",
   "execution_count": 26,
   "metadata": {},
   "outputs": [
    {
     "ename": "ValueError",
     "evalue": "Cannot operate with Unit and Quantity of different registries.",
     "output_type": "error",
     "traceback": [
      "\u001b[31m---------------------------------------------------------------------------\u001b[39m",
      "\u001b[31mValueError\u001b[39m                                Traceback (most recent call last)",
      "\u001b[36mCell\u001b[39m\u001b[36m \u001b[39m\u001b[32mIn[26]\u001b[39m\u001b[32m, line 1\u001b[39m\n\u001b[32m----> \u001b[39m\u001b[32m1\u001b[39m h_экз = \u001b[43mureg\u001b[49m\u001b[43m.\u001b[49m\u001b[43mboltzmann_constant\u001b[49m\u001b[43m \u001b[49m\u001b[43m*\u001b[49m\u001b[43m \u001b[49m\u001b[43mT_экзосферы\u001b[49m /  σ / H\n\u001b[32m      2\u001b[39m h_экз.to_base_units()\n",
      "\u001b[36mFile \u001b[39m\u001b[32m~/atmoescape/.venv/lib64/python3.12/site-packages/pint/facets/plain/unit.py:145\u001b[39m, in \u001b[36mPlainUnit.__mul__\u001b[39m\u001b[34m(self, other)\u001b[39m\n\u001b[32m    144\u001b[39m \u001b[38;5;28;01mdef\u001b[39;00m\u001b[38;5;250m \u001b[39m\u001b[34m__mul__\u001b[39m(\u001b[38;5;28mself\u001b[39m, other):\n\u001b[32m--> \u001b[39m\u001b[32m145\u001b[39m     \u001b[38;5;28;01mif\u001b[39;00m \u001b[38;5;28;43mself\u001b[39;49m\u001b[43m.\u001b[49m\u001b[43m_check\u001b[49m\u001b[43m(\u001b[49m\u001b[43mother\u001b[49m\u001b[43m)\u001b[49m:\n\u001b[32m    146\u001b[39m         \u001b[38;5;28;01mif\u001b[39;00m \u001b[38;5;28misinstance\u001b[39m(other, \u001b[38;5;28mself\u001b[39m.\u001b[34m__class__\u001b[39m):\n\u001b[32m    147\u001b[39m             \u001b[38;5;28;01mreturn\u001b[39;00m \u001b[38;5;28mself\u001b[39m.\u001b[34m__class__\u001b[39m(\u001b[38;5;28mself\u001b[39m._units * other._units)\n",
      "\u001b[36mFile \u001b[39m\u001b[32m~/atmoescape/.venv/lib64/python3.12/site-packages/pint/util.py:997\u001b[39m, in \u001b[36mSharedRegistryObject._check\u001b[39m\u001b[34m(self, other)\u001b[39m\n\u001b[32m    995\u001b[39m \u001b[38;5;28;01melif\u001b[39;00m \u001b[38;5;28misinstance\u001b[39m(other, SharedRegistryObject):\n\u001b[32m    996\u001b[39m     mess = \u001b[33m\"\u001b[39m\u001b[33mCannot operate with \u001b[39m\u001b[38;5;132;01m{}\u001b[39;00m\u001b[33m and \u001b[39m\u001b[38;5;132;01m{}\u001b[39;00m\u001b[33m of different registries.\u001b[39m\u001b[33m\"\u001b[39m\n\u001b[32m--> \u001b[39m\u001b[32m997\u001b[39m     \u001b[38;5;28;01mraise\u001b[39;00m \u001b[38;5;167;01mValueError\u001b[39;00m(\n\u001b[32m    998\u001b[39m         mess.format(\u001b[38;5;28mself\u001b[39m.\u001b[34m__class__\u001b[39m.\u001b[34m__name__\u001b[39m, other.\u001b[34m__class__\u001b[39m.\u001b[34m__name__\u001b[39m)\n\u001b[32m    999\u001b[39m     )\n\u001b[32m   1000\u001b[39m \u001b[38;5;28;01melse\u001b[39;00m:\n\u001b[32m   1001\u001b[39m     \u001b[38;5;28;01mreturn\u001b[39;00m \u001b[38;5;28;01mFalse\u001b[39;00m\n",
      "\u001b[31mValueError\u001b[39m: Cannot operate with Unit and Quantity of different registries."
     ]
    }
   ],
   "source": [
    "h_экз = ureg.boltzmann_constant * T_экзосферы /  σ / H\n",
    "h_экз.to_base_units()"
   ]
  },
  {
   "cell_type": "code",
   "execution_count": 25,
   "metadata": {},
   "outputs": [
    {
     "ename": "AttributeError",
     "evalue": "'Unit' object has no attribute 'magnitude'",
     "output_type": "error",
     "traceback": [
      "\u001b[31m---------------------------------------------------------------------------\u001b[39m",
      "\u001b[31mAttributeError\u001b[39m                            Traceback (most recent call last)",
      "\u001b[36mCell\u001b[39m\u001b[36m \u001b[39m\u001b[32mIn[25]\u001b[39m\u001b[32m, line 4\u001b[39m\n\u001b[32m      2\u001b[39m ureg = UnitRegistry()\n\u001b[32m      3\u001b[39m k = ureg.boltzmann_constant\n\u001b[32m----> \u001b[39m\u001b[32m4\u001b[39m \u001b[38;5;28mprint\u001b[39m(\u001b[43mk\u001b[49m\u001b[43m.\u001b[49m\u001b[43mmagnitude\u001b[49m)  \u001b[38;5;66;03m# 1.380649e-23 joule / kelvin\u001b[39;00m\n",
      "\u001b[31mAttributeError\u001b[39m: 'Unit' object has no attribute 'magnitude'"
     ]
    }
   ],
   "source": [
    "from pint import UnitRegistry\n",
    "ureg = UnitRegistry()\n",
    "k = ureg.boltzmann_constant\n",
    "print(k.magnitude)  \n"
   ]
  }
 ],
 "metadata": {
  "kernelspec": {
   "display_name": ".venv",
   "language": "python",
   "name": "python3"
  },
  "language_info": {
   "codemirror_mode": {
    "name": "ipython",
    "version": 3
   },
   "file_extension": ".py",
   "mimetype": "text/x-python",
   "name": "python",
   "nbconvert_exporter": "python",
   "pygments_lexer": "ipython3",
   "version": "3.12.5"
  }
 },
 "nbformat": 4,
 "nbformat_minor": 2
}
