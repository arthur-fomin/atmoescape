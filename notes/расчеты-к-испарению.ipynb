{
 "cells": [
  {
   "cell_type": "markdown",
   "metadata": {},
   "source": [
    "Будем использовать физическими величинами с измерениями. Модуль PhysicalQuantities сломался, не обновлялся два года, поэтому придется попробовать `pint` + `uncertainties`."
   ]
  },
  {
   "cell_type": "code",
   "execution_count": 55,
   "metadata": {},
   "outputs": [],
   "source": [
    "from pint import UnitRegistry\n",
    "from uncertainties import ufloat\n",
    "from scipy.constants import k as k_J_per_K\n",
    "import math"
   ]
  },
  {
   "cell_type": "code",
   "execution_count": 42,
   "metadata": {},
   "outputs": [
    {
     "data": {
      "text/html": [
       "(2.00+/-0.10)e+05 meter"
      ],
      "text/latex": [
       "$(2.00+/-0.10)e+05\\ \\mathrm{meter}$"
      ],
      "text/plain": [
       "<Quantity(200000+/-10000, 'meter')>"
      ]
     },
     "execution_count": 42,
     "metadata": {},
     "output_type": "execute_result"
    }
   ],
   "source": [
    "H_отсчета = (ufloat(200, 10) * ureg.kilometer).to_base_units()\n",
    "H_отсчета"
   ]
  },
  {
   "cell_type": "code",
   "execution_count": 43,
   "metadata": {},
   "outputs": [
    {
     "data": {
      "text/html": [
       "(8.5+/-1.0)e-05 kilogram/(meter second<sup>2</sup>)"
      ],
      "text/latex": [
       "$(8.5+/-1.0)e-05\\ \\frac{\\mathrm{kilogram}}{\\left(\\mathrm{meter} \\cdot \\mathrm{second}^{2}\\right)}$"
      ],
      "text/plain": [
       "<Quantity((8.53000+/-1.00000)e-05, 'kilogram / meter / second ** 2')>"
      ]
     },
     "execution_count": 43,
     "metadata": {},
     "output_type": "execute_result"
    }
   ],
   "source": [
    "P_отсчета =  (ufloat(8.53, 1)* 1e-5 * ureg.pascal).to_base_units()\n",
    "P_отсчета"
   ]
  },
  {
   "cell_type": "code",
   "execution_count": 44,
   "metadata": {},
   "outputs": [
    {
     "data": {
      "text/html": [
       "(6.0+/-1.0)e+04 meter"
      ],
      "text/latex": [
       "$(6.0+/-1.0)e+04\\ \\mathrm{meter}$"
      ],
      "text/plain": [
       "<Quantity(60000.0+/-10000.0, 'meter')>"
      ]
     },
     "execution_count": 44,
     "metadata": {},
     "output_type": "execute_result"
    }
   ],
   "source": [
    "H = (ufloat(60, 10) * ureg.kilometer).to_base_units()\n",
    "H"
   ]
  },
  {
   "cell_type": "code",
   "execution_count": 45,
   "metadata": {},
   "outputs": [
    {
     "data": {
      "text/html": [
       "(8.0+/-3.0)e-20 meter<sup>2</sup>"
      ],
      "text/latex": [
       "$(8.0+/-3.0)e-20\\ \\mathrm{meter}^{2}$"
      ],
      "text/plain": [
       "<Quantity((8.00000+/-3.00000)e-20, 'meter ** 2')>"
      ]
     },
     "execution_count": 45,
     "metadata": {},
     "output_type": "execute_result"
    }
   ],
   "source": [
    "σ = (ufloat(8, 3) * ureg.angstrom * ureg.angstrom).to_base_units()\n",
    "σ"
   ]
  },
  {
   "cell_type": "code",
   "execution_count": 46,
   "metadata": {},
   "outputs": [
    {
     "data": {
      "text/html": [
       "(8.5+/-2.0)e+02 kelvin"
      ],
      "text/latex": [
       "$(8.5+/-2.0)e+02\\ \\mathrm{kelvin}$"
      ],
      "text/plain": [
       "<Quantity(854.400+/-200.000, 'kelvin')>"
      ]
     },
     "execution_count": 46,
     "metadata": {},
     "output_type": "execute_result"
    }
   ],
   "source": [
    "T_отсчета = (ufloat(854.4, 200) * ureg.K).to_base_units()\n",
    "T_отсчета"
   ]
  },
  {
   "cell_type": "code",
   "execution_count": 47,
   "metadata": {},
   "outputs": [
    {
     "data": {
      "text/html": [
       "(1.00+/-0.20)e+03 kelvin"
      ],
      "text/latex": [
       "$(1.00+/-0.20)e+03\\ \\mathrm{kelvin}$"
      ],
      "text/plain": [
       "<Quantity(1000.00+/-200.00, 'kelvin')>"
      ]
     },
     "execution_count": 47,
     "metadata": {},
     "output_type": "execute_result"
    }
   ],
   "source": [
    "T_экзосферы = (ufloat(1000, 200) * ureg.kelvin).to_base_units()\n",
    "T_экзосферы"
   ]
  },
  {
   "cell_type": "markdown",
   "metadata": {},
   "source": [
    "Todo: разобраться, почему `ureg` не может сам разобраться с конверсией единиц измерения"
   ]
  },
  {
   "cell_type": "code",
   "execution_count": 48,
   "metadata": {},
   "outputs": [
    {
     "data": {
      "text/html": [
       "1.380649×10<sup>-23</sup> kilogram meter<sup>2</sup>/(kelvin second<sup>2</sup>)"
      ],
      "text/latex": [
       "$1.380649\\times 10^{-23}\\ \\frac{\\mathrm{kilogram} \\cdot \\mathrm{meter}^{2}}{\\left(\\mathrm{kelvin} \\cdot \\mathrm{second}^{2}\\right)}$"
      ],
      "text/plain": [
       "<Quantity(1.380649e-23, 'kilogram * meter ** 2 / second ** 2 / kelvin')>"
      ]
     },
     "execution_count": 48,
     "metadata": {},
     "output_type": "execute_result"
    }
   ],
   "source": [
    "k = (k_J_per_K * ureg.J / ureg.K).to_base_units()\n",
    "k"
   ]
  },
  {
   "cell_type": "code",
   "execution_count": 52,
   "metadata": {},
   "outputs": [
    {
     "data": {
      "text/html": [
       "(2.9+/-1.3)e-06 pascal"
      ],
      "text/latex": [
       "$(2.9+/-1.3)e-06\\ \\mathrm{pascal}$"
      ],
      "text/plain": [
       "<Quantity((2.87635+/-1.31309)e-06, 'pascal')>"
      ]
     },
     "execution_count": 52,
     "metadata": {},
     "output_type": "execute_result"
    }
   ],
   "source": [
    "p_экз = ureg.k * T_экзосферы /  σ / H\n",
    "p_экз.to('pascal')"
   ]
  },
  {
   "cell_type": "code",
   "execution_count": 57,
   "metadata": {},
   "outputs": [
    {
     "data": {
      "text/html": [
       "(4.1+/-1.9)e-22 kilogram meter<sup>2</sup>/(boltzmann_constant kelvin second<sup>2</sup>)"
      ],
      "text/latex": [
       "$(4.1+/-1.9)e-22\\ \\frac{\\mathrm{kilogram} \\cdot \\mathrm{meter}^{2}}{\\left(\\mathrm{boltzmann\\_constant} \\cdot \\mathrm{kelvin} \\cdot \\mathrm{second}^{2}\\right)}$"
      ],
      "text/plain": [
       "<Quantity((4.09440+/-1.92979)e-22, 'kilogram * meter ** 2 / second ** 2 / boltzmann_constant / kelvin')>"
      ]
     },
     "execution_count": 57,
     "metadata": {},
     "output_type": "execute_result"
    }
   ],
   "source": [
    "P_отсчета / p_экз"
   ]
  },
  {
   "cell_type": "code",
   "execution_count": 56,
   "metadata": {},
   "outputs": [
    {
     "ename": "TypeError",
     "evalue": "can't convert an affine function (<class 'uncertainties.core.AffineScalarFunc'>) to float; use x.nominal_value",
     "output_type": "error",
     "traceback": [
      "\u001b[31m---------------------------------------------------------------------------\u001b[39m",
      "\u001b[31mTypeError\u001b[39m                                 Traceback (most recent call last)",
      "\u001b[36mCell\u001b[39m\u001b[36m \u001b[39m\u001b[32mIn[56]\u001b[39m\u001b[32m, line 1\u001b[39m\n\u001b[32m----> \u001b[39m\u001b[32m1\u001b[39m h_экз = H_отсчета + H * \u001b[43mmath\u001b[49m\u001b[43m.\u001b[49m\u001b[43mlog\u001b[49m\u001b[43m(\u001b[49m\u001b[43mP_отсчета\u001b[49m\u001b[43m \u001b[49m\u001b[43m/\u001b[49m\u001b[43m \u001b[49m\u001b[43mp_экз\u001b[49m\u001b[43m)\u001b[49m\n\u001b[32m      2\u001b[39m h_экз\n",
      "\u001b[36mFile \u001b[39m\u001b[32m~/atmoescape/.venv/lib64/python3.12/site-packages/pint/facets/plain/quantity.py:595\u001b[39m, in \u001b[36mPlainQuantity.__float__\u001b[39m\u001b[34m(self)\u001b[39m\n\u001b[32m    593\u001b[39m \u001b[38;5;28;01mdef\u001b[39;00m\u001b[38;5;250m \u001b[39m\u001b[34m__float__\u001b[39m(\u001b[38;5;28mself\u001b[39m) -> \u001b[38;5;28mfloat\u001b[39m:\n\u001b[32m    594\u001b[39m     \u001b[38;5;28;01mif\u001b[39;00m \u001b[38;5;28mself\u001b[39m.dimensionless:\n\u001b[32m--> \u001b[39m\u001b[32m595\u001b[39m         \u001b[38;5;28;01mreturn\u001b[39;00m \u001b[38;5;28;43mfloat\u001b[39;49m\u001b[43m(\u001b[49m\u001b[38;5;28;43mself\u001b[39;49m\u001b[43m.\u001b[49m\u001b[43m_convert_magnitude_not_inplace\u001b[49m\u001b[43m(\u001b[49m\u001b[43mUnitsContainer\u001b[49m\u001b[43m(\u001b[49m\u001b[43m)\u001b[49m\u001b[43m)\u001b[49m\u001b[43m)\u001b[49m\n\u001b[32m    596\u001b[39m     \u001b[38;5;28;01mraise\u001b[39;00m DimensionalityError(\u001b[38;5;28mself\u001b[39m._units, \u001b[33m\"\u001b[39m\u001b[33mdimensionless\u001b[39m\u001b[33m\"\u001b[39m)\n",
      "\u001b[36mFile \u001b[39m\u001b[32m~/atmoescape/.venv/lib64/python3.12/site-packages/uncertainties/ops.py:285\u001b[39m, in \u001b[36madd_arithmetic_ops.<locals>.raise_error\u001b[39m\u001b[34m(self)\u001b[39m\n\u001b[32m    284\u001b[39m \u001b[38;5;28;01mdef\u001b[39;00m\u001b[38;5;250m \u001b[39m\u001b[34mraise_error\u001b[39m(\u001b[38;5;28mself\u001b[39m):\n\u001b[32m--> \u001b[39m\u001b[32m285\u001b[39m     \u001b[38;5;28;01mraise\u001b[39;00m \u001b[38;5;167;01mTypeError\u001b[39;00m(\n\u001b[32m    286\u001b[39m         \u001b[33m\"\u001b[39m\u001b[33mcan\u001b[39m\u001b[33m'\u001b[39m\u001b[33mt convert an affine function (\u001b[39m\u001b[38;5;132;01m%s\u001b[39;00m\u001b[33m)\u001b[39m\u001b[33m\"\u001b[39m\n\u001b[32m    287\u001b[39m         \u001b[33m\"\u001b[39m\u001b[33m to \u001b[39m\u001b[38;5;132;01m%s\u001b[39;00m\u001b[33m; use x.nominal_value\u001b[39m\u001b[33m\"\u001b[39m % (\u001b[38;5;28mself\u001b[39m.\u001b[34m__class__\u001b[39m, coercion_type)\n\u001b[32m    288\u001b[39m         \u001b[38;5;66;03m# In case AffineScalarFunc is sub-classed:\u001b[39;00m\n\u001b[32m    289\u001b[39m     )\n",
      "\u001b[31mTypeError\u001b[39m: can't convert an affine function (<class 'uncertainties.core.AffineScalarFunc'>) to float; use x.nominal_value"
     ]
    }
   ],
   "source": [
    "h_экз = H_отсчета + H * math.log(P_отсчета / p_экз)\n",
    "h_экз"
   ]
  }
 ],
 "metadata": {
  "kernelspec": {
   "display_name": ".venv",
   "language": "python",
   "name": "python3"
  },
  "language_info": {
   "codemirror_mode": {
    "name": "ipython",
    "version": 3
   },
   "file_extension": ".py",
   "mimetype": "text/x-python",
   "name": "python",
   "nbconvert_exporter": "python",
   "pygments_lexer": "ipython3",
   "version": "3.12.5"
  }
 },
 "nbformat": 4,
 "nbformat_minor": 2
}
