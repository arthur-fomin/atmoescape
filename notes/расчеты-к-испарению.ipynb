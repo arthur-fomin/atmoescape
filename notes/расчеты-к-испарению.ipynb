{
 "cells": [
  {
   "cell_type": "markdown",
   "metadata": {},
   "source": [
    "Будем использовать физическими величинами с измерениями. Модуль PhysicalQuantities сломался, не обновлялся два года, поэтому придется попробовать новое."
   ]
  },
  {
   "cell_type": "code",
   "execution_count": 8,
   "metadata": {},
   "outputs": [],
   "source": [
    "from pint import UnitRegistry\n",
    "from uncertainties import ufloat"
   ]
  },
  {
   "cell_type": "code",
   "execution_count": 9,
   "metadata": {},
   "outputs": [
    {
     "name": "stdout",
     "output_type": "stream",
     "text": [
      "10.0+/-0.5 meter\n"
     ]
    }
   ],
   "source": [
    "ureg = UnitRegistry()\n",
    "length = ufloat(10, 0.5) * ureg.meter\n",
    "print(length)  # (10 ± 0.5) m\n"
   ]
  },
  {
   "cell_type": "code",
   "execution_count": 12,
   "metadata": {},
   "outputs": [
    {
     "data": {
      "text/html": [
       "200+/-10 kilometer"
      ],
      "text/latex": [
       "$200+/-10\\ \\mathrm{kilometer}$"
      ],
      "text/plain": [
       "<Quantity(200.000+/-10.000, 'kilometer')>"
      ]
     },
     "execution_count": 12,
     "metadata": {},
     "output_type": "execute_result"
    }
   ],
   "source": [
    "H_отсчета = ufloat(200, 10) * ureg.kilometer\n",
    "H_отсчета"
   ]
  },
  {
   "cell_type": "code",
   "execution_count": 10,
   "metadata": {},
   "outputs": [
    {
     "data": {
      "text/html": [
       "(8.5+/-1.0)e-05 pascal"
      ],
      "text/latex": [
       "$(8.5+/-1.0)e-05\\ \\mathrm{pascal}$"
      ],
      "text/plain": [
       "<Quantity((8.53000+/-1.00000)e-05, 'pascal')>"
      ]
     },
     "execution_count": 10,
     "metadata": {},
     "output_type": "execute_result"
    }
   ],
   "source": [
    "P_отсчета =  ufloat(8.53, 1)* 1e-5 * ureg.pascal\n",
    "P_отсчета"
   ]
  },
  {
   "cell_type": "code",
   "execution_count": 13,
   "metadata": {},
   "outputs": [
    {
     "data": {
      "text/html": [
       "60+/-10 kilometer"
      ],
      "text/latex": [
       "$60+/-10\\ \\mathrm{kilometer}$"
      ],
      "text/plain": [
       "<Quantity(60.0000+/-10.0000, 'kilometer')>"
      ]
     },
     "execution_count": 13,
     "metadata": {},
     "output_type": "execute_result"
    }
   ],
   "source": [
    "H = ufloat(60, 10) * ureg.kilometer\n",
    "H"
   ]
  }
 ],
 "metadata": {
  "kernelspec": {
   "display_name": ".venv",
   "language": "python",
   "name": "python3"
  },
  "language_info": {
   "codemirror_mode": {
    "name": "ipython",
    "version": 3
   },
   "file_extension": ".py",
   "mimetype": "text/x-python",
   "name": "python",
   "nbconvert_exporter": "python",
   "pygments_lexer": "ipython3",
   "version": "3.12.5"
  }
 },
 "nbformat": 4,
 "nbformat_minor": 2
}
