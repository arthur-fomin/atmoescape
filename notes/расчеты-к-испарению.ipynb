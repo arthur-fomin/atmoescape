{
 "cells": [
  {
   "cell_type": "markdown",
   "metadata": {},
   "source": [
    "Будем использовать физическими величинами с измерениями. Модуль PhysicalQuantities сломался, не обновлялся два года, поэтому придется попробовать `pint` + `uncertainties`."
   ]
  },
  {
   "cell_type": "code",
   "execution_count": 1,
   "metadata": {},
   "outputs": [],
   "source": [
    "from pint import UnitRegistry\n",
    "from uncertainties import ufloat, umath\n",
    "from scipy.constants import k as k_J_per_K\n",
    "import sympy as sp"
   ]
  },
  {
   "cell_type": "code",
   "execution_count": 2,
   "metadata": {},
   "outputs": [],
   "source": [
    "ureg = UnitRegistry()"
   ]
  },
  {
   "cell_type": "code",
   "execution_count": 3,
   "metadata": {},
   "outputs": [
    {
     "data": {
      "text/html": [
       "(2.000+/-0.010)e+05 meter"
      ],
      "text/latex": [
       "$(2.000+/-0.010)e+05\\ \\mathrm{meter}$"
      ],
      "text/plain": [
       "<Quantity(200000+/-1000, 'meter')>"
      ]
     },
     "execution_count": 3,
     "metadata": {},
     "output_type": "execute_result"
    }
   ],
   "source": [
    "H_отсчета = (ufloat(200, 1) * ureg.kilometer).to_base_units()\n",
    "H_отсчета"
   ]
  },
  {
   "cell_type": "code",
   "execution_count": 4,
   "metadata": {},
   "outputs": [
    {
     "data": {
      "text/html": [
       "(8.0+/-1.0)e-05 kilogram/(meter second<sup>2</sup>)"
      ],
      "text/latex": [
       "$(8.0+/-1.0)e-05\\ \\frac{\\mathrm{kilogram}}{\\left(\\mathrm{meter} \\cdot \\mathrm{second}^{2}\\right)}$"
      ],
      "text/plain": [
       "<Quantity((8.00000+/-1.00000)e-05, 'kilogram / meter / second ** 2')>"
      ]
     },
     "execution_count": 4,
     "metadata": {},
     "output_type": "execute_result"
    }
   ],
   "source": [
    "P_отсчета =  (ufloat(8, 1)* 1e-5 * ureg.pascal).to_base_units()\n",
    "P_отсчета"
   ]
  },
  {
   "cell_type": "code",
   "execution_count": 5,
   "metadata": {},
   "outputs": [
    {
     "data": {
      "text/html": [
       "(7.0+/-1.0)e+04 meter"
      ],
      "text/latex": [
       "$(7.0+/-1.0)e+04\\ \\mathrm{meter}$"
      ],
      "text/plain": [
       "<Quantity(70000.0+/-10000.0, 'meter')>"
      ]
     },
     "execution_count": 5,
     "metadata": {},
     "output_type": "execute_result"
    }
   ],
   "source": [
    "H = (ufloat(70, 10) * ureg.kilometer).to_base_units()\n",
    "H"
   ]
  },
  {
   "cell_type": "code",
   "execution_count": 6,
   "metadata": {},
   "outputs": [
    {
     "data": {
      "text/html": [
       "(8.0+/-2.0)e-20 meter<sup>2</sup>"
      ],
      "text/latex": [
       "$(8.0+/-2.0)e-20\\ \\mathrm{meter}^{2}$"
      ],
      "text/plain": [
       "<Quantity((8.00000+/-2.00000)e-20, 'meter ** 2')>"
      ]
     },
     "execution_count": 6,
     "metadata": {},
     "output_type": "execute_result"
    }
   ],
   "source": [
    "σ = (ufloat(8, 2) * ureg.angstrom * ureg.angstrom).to_base_units()\n",
    "σ"
   ]
  },
  {
   "cell_type": "code",
   "execution_count": 7,
   "metadata": {},
   "outputs": [
    {
     "data": {
      "text/html": [
       "(8.5+/-2.0)e+02 kelvin"
      ],
      "text/latex": [
       "$(8.5+/-2.0)e+02\\ \\mathrm{kelvin}$"
      ],
      "text/plain": [
       "<Quantity(854.400+/-200.000, 'kelvin')>"
      ]
     },
     "execution_count": 7,
     "metadata": {},
     "output_type": "execute_result"
    }
   ],
   "source": [
    "T_отсчета = (ufloat(854.4, 200) * ureg.K).to_base_units()\n",
    "T_отсчета"
   ]
  },
  {
   "cell_type": "code",
   "execution_count": 8,
   "metadata": {},
   "outputs": [
    {
     "data": {
      "text/html": [
       "(1.00+/-0.30)e+03 kelvin"
      ],
      "text/latex": [
       "$(1.00+/-0.30)e+03\\ \\mathrm{kelvin}$"
      ],
      "text/plain": [
       "<Quantity(1000.00+/-300.00, 'kelvin')>"
      ]
     },
     "execution_count": 8,
     "metadata": {},
     "output_type": "execute_result"
    }
   ],
   "source": [
    "T_экзосферы = (ufloat(1000, 300) * ureg.kelvin).to_base_units()\n",
    "T_экзосферы"
   ]
  },
  {
   "cell_type": "markdown",
   "metadata": {},
   "source": [
    "Todo: разобраться, почему `ureg` не может сам разобраться с конверсией единиц измерения, и почему там константы типа Units, а не Quantities"
   ]
  },
  {
   "cell_type": "code",
   "execution_count": 9,
   "metadata": {},
   "outputs": [
    {
     "data": {
      "text/html": [
       "1.380649×10<sup>-23</sup> kilogram meter<sup>2</sup>/(kelvin second<sup>2</sup>)"
      ],
      "text/latex": [
       "$1.380649\\times 10^{-23}\\ \\frac{\\mathrm{kilogram} \\cdot \\mathrm{meter}^{2}}{\\left(\\mathrm{kelvin} \\cdot \\mathrm{second}^{2}\\right)}$"
      ],
      "text/plain": [
       "<Quantity(1.380649e-23, 'kilogram * meter ** 2 / second ** 2 / kelvin')>"
      ]
     },
     "execution_count": 9,
     "metadata": {},
     "output_type": "execute_result"
    }
   ],
   "source": [
    "k = (k_J_per_K * ureg.J / ureg.K).to_base_units()\n",
    "k"
   ]
  },
  {
   "cell_type": "code",
   "execution_count": 10,
   "metadata": {},
   "outputs": [
    {
     "data": {
      "text/html": [
       "(2.5+/-1.0)e-06 pascal"
      ],
      "text/latex": [
       "$(2.5+/-1.0)e-06\\ \\mathrm{pascal}$"
      ],
      "text/plain": [
       "<Quantity((2.46544+/-1.02519)e-06, 'pascal')>"
      ]
     },
     "execution_count": 10,
     "metadata": {},
     "output_type": "execute_result"
    }
   ],
   "source": [
    "p_экз = k * T_экзосферы /  σ / H\n",
    "p_экз.to('pascal')"
   ]
  },
  {
   "cell_type": "code",
   "execution_count": 11,
   "metadata": {},
   "outputs": [
    {
     "data": {
      "text/html": [
       "(4.4+/-0.5)e+02 kilometer"
      ],
      "text/latex": [
       "$(4.4+/-0.5)e+02\\ \\mathrm{kilometer}$"
      ],
      "text/plain": [
       "<Quantity(443.576+/-53.212, 'kilometer')>"
      ]
     },
     "execution_count": 11,
     "metadata": {},
     "output_type": "execute_result"
    }
   ],
   "source": [
    "h_экз = H_отсчета + H * umath.log( (P_отсчета / p_экз).magnitude )\n",
    "h_экз.to('km')"
   ]
  },
  {
   "cell_type": "code",
   "execution_count": 12,
   "metadata": {},
   "outputs": [
    {
     "data": {
      "text/html": [
       "(4.4+/-0.5)e+05 meter"
      ],
      "text/latex": [
       "$(4.4+/-0.5)e+05\\ \\mathrm{meter}$"
      ],
      "text/plain": [
       "<Quantity(443576+/-53212, 'meter')>"
      ]
     },
     "execution_count": 12,
     "metadata": {},
     "output_type": "execute_result"
    }
   ],
   "source": [
    "h_экз = h_экз.to_base_units()\n",
    "h_экз"
   ]
  },
  {
   "cell_type": "markdown",
   "metadata": {},
   "source": [
    "----"
   ]
  },
  {
   "cell_type": "code",
   "execution_count": 13,
   "metadata": {},
   "outputs": [
    {
     "data": {
      "text/html": [
       "6.6743×10<sup>-11</sup> meter<sup>3</sup>/(kilogram second<sup>2</sup>)"
      ],
      "text/latex": [
       "$6.6743\\times 10^{-11}\\ \\frac{\\mathrm{meter}^{3}}{\\left(\\mathrm{kilogram} \\cdot \\mathrm{second}^{2}\\right)}$"
      ],
      "text/plain": [
       "<Quantity(6.6743e-11, 'meter ** 3 / kilogram / second ** 2')>"
      ]
     },
     "execution_count": 13,
     "metadata": {},
     "output_type": "execute_result"
    }
   ],
   "source": [
    "G = (1 * ureg.gravitational_constant).to_base_units()\n",
    "G"
   ]
  },
  {
   "cell_type": "code",
   "execution_count": 14,
   "metadata": {},
   "outputs": [
    {
     "data": {
      "text/html": [
       "(5.9722+/-0.0012)e+24 kilogram"
      ],
      "text/latex": [
       "$(5.9722+/-0.0012)e+24\\ \\mathrm{kilogram}$"
      ],
      "text/plain": [
       "<Quantity((5.97220+/-0.00120)e+24, 'kilogram')>"
      ]
     },
     "execution_count": 14,
     "metadata": {},
     "output_type": "execute_result"
    }
   ],
   "source": [
    "M_земли = ufloat(5.9722e24, 1.2e21) * ureg.kg\n",
    "M_земли"
   ]
  },
  {
   "cell_type": "code",
   "execution_count": 15,
   "metadata": {},
   "outputs": [
    {
     "data": {
      "text/html": [
       "(6.371+/-0.010)e+06 meter"
      ],
      "text/latex": [
       "$(6.371+/-0.010)e+06\\ \\mathrm{meter}$"
      ],
      "text/plain": [
       "<Quantity((6.37100+/-0.01000)e+06, 'meter')>"
      ]
     },
     "execution_count": 15,
     "metadata": {},
     "output_type": "execute_result"
    }
   ],
   "source": [
    "R_земли = (ufloat(6.371e6, 1e4) * ureg.meter).to_base_units()\n",
    "R_земли"
   ]
  },
  {
   "cell_type": "code",
   "execution_count": 16,
   "metadata": {},
   "outputs": [
    {
     "data": {
      "text/html": [
       "(6.81+/-0.05)e+06 meter"
      ],
      "text/latex": [
       "$(6.81+/-0.05)e+06\\ \\mathrm{meter}$"
      ],
      "text/plain": [
       "<Quantity((6.81458+/-0.05414)e+06, 'meter')>"
      ]
     },
     "execution_count": 16,
     "metadata": {},
     "output_type": "execute_result"
    }
   ],
   "source": [
    "R_земли+h_экз"
   ]
  },
  {
   "cell_type": "code",
   "execution_count": 17,
   "metadata": {},
   "outputs": [
    {
     "ename": "DimensionalityError",
     "evalue": "Cannot convert from 'meter ** 2 / second ** 2' to 'dimensionless'",
     "output_type": "error",
     "traceback": [
      "\u001b[31m---------------------------------------------------------------------------\u001b[39m",
      "\u001b[31mDimensionalityError\u001b[39m                       Traceback (most recent call last)",
      "\u001b[36mCell\u001b[39m\u001b[36m \u001b[39m\u001b[32mIn[17]\u001b[39m\u001b[32m, line 1\u001b[39m\n\u001b[32m----> \u001b[39m\u001b[32m1\u001b[39m v_esc = \u001b[43mumath\u001b[49m\u001b[43m.\u001b[49m\u001b[43msqrt\u001b[49m\u001b[43m(\u001b[49m\u001b[32;43m2\u001b[39;49m\u001b[43m*\u001b[49m\u001b[43mG\u001b[49m\u001b[43m*\u001b[49m\u001b[43mM_земли\u001b[49m\u001b[43m/\u001b[49m\u001b[43m(\u001b[49m\u001b[43mR_земли\u001b[49m\u001b[43m+\u001b[49m\u001b[43mh_экз\u001b[49m\u001b[43m)\u001b[49m\u001b[43m)\u001b[49m\n\u001b[32m      2\u001b[39m v_esc\n",
      "\u001b[36mFile \u001b[39m\u001b[32m~/atmoescape/.venv/lib64/python3.12/site-packages/uncertainties/ops.py:470\u001b[39m, in \u001b[36m_wrap.<locals>.f_with_affine_output\u001b[39m\u001b[34m(*args, **kwargs)\u001b[39m\n\u001b[32m    463\u001b[39m \u001b[38;5;66;03m########################################\u001b[39;00m\n\u001b[32m    464\u001b[39m \u001b[38;5;66;03m# Value of f() at the nominal value of the arguments with\u001b[39;00m\n\u001b[32m    465\u001b[39m \u001b[38;5;66;03m# uncertainty:\u001b[39;00m\n\u001b[32m    466\u001b[39m \n\u001b[32m    467\u001b[39m \u001b[38;5;66;03m# The usual behavior of f() is kept, if no number with\u001b[39;00m\n\u001b[32m    468\u001b[39m \u001b[38;5;66;03m# uncertainty is provided:\u001b[39;00m\n\u001b[32m    469\u001b[39m \u001b[38;5;28;01mif\u001b[39;00m (\u001b[38;5;129;01mnot\u001b[39;00m pos_w_uncert) \u001b[38;5;129;01mand\u001b[39;00m (\u001b[38;5;129;01mnot\u001b[39;00m names_w_uncert):\n\u001b[32m--> \u001b[39m\u001b[32m470\u001b[39m     \u001b[38;5;28;01mreturn\u001b[39;00m \u001b[43mf\u001b[49m\u001b[43m(\u001b[49m\u001b[43m*\u001b[49m\u001b[43margs\u001b[49m\u001b[43m,\u001b[49m\u001b[43m \u001b[49m\u001b[43m*\u001b[49m\u001b[43m*\u001b[49m\u001b[43mkwargs\u001b[49m\u001b[43m)\u001b[49m\n\u001b[32m    472\u001b[39m \u001b[38;5;66;03m### Nominal values of the (scalar) arguments:\u001b[39;00m\n\u001b[32m    473\u001b[39m \n\u001b[32m    474\u001b[39m \u001b[38;5;66;03m# !! Possible optimization: If pos_w_uncert is empty, there\u001b[39;00m\n\u001b[32m   (...)\u001b[39m\u001b[32m    480\u001b[39m \n\u001b[32m    481\u001b[39m \u001b[38;5;66;03m## Positional arguments:\u001b[39;00m\n\u001b[32m    482\u001b[39m args_values = \u001b[38;5;28mlist\u001b[39m(args)  \u001b[38;5;66;03m# Now mutable: modified below\u001b[39;00m\n",
      "\u001b[36mFile \u001b[39m\u001b[32m~/atmoescape/.venv/lib64/python3.12/site-packages/pint/facets/plain/quantity.py:596\u001b[39m, in \u001b[36mPlainQuantity.__float__\u001b[39m\u001b[34m(self)\u001b[39m\n\u001b[32m    594\u001b[39m \u001b[38;5;28;01mif\u001b[39;00m \u001b[38;5;28mself\u001b[39m.dimensionless:\n\u001b[32m    595\u001b[39m     \u001b[38;5;28;01mreturn\u001b[39;00m \u001b[38;5;28mfloat\u001b[39m(\u001b[38;5;28mself\u001b[39m._convert_magnitude_not_inplace(UnitsContainer()))\n\u001b[32m--> \u001b[39m\u001b[32m596\u001b[39m \u001b[38;5;28;01mraise\u001b[39;00m DimensionalityError(\u001b[38;5;28mself\u001b[39m._units, \u001b[33m\"\u001b[39m\u001b[33mdimensionless\u001b[39m\u001b[33m\"\u001b[39m)\n",
      "\u001b[31mDimensionalityError\u001b[39m: Cannot convert from 'meter ** 2 / second ** 2' to 'dimensionless'"
     ]
    }
   ],
   "source": [
    "v_esc = umath.sqrt(2*G*M_земли/(R_земли+h_экз))\n",
    "v_esc"
   ]
  },
  {
   "cell_type": "markdown",
   "metadata": {},
   "source": [
    "----"
   ]
  },
  {
   "cell_type": "code",
   "execution_count": null,
   "metadata": {},
   "outputs": [
    {
     "data": {
      "text/plain": [
       "(m, k, T, v, theta, phi)"
      ]
     },
     "execution_count": 150,
     "metadata": {},
     "output_type": "execute_result"
    }
   ],
   "source": [
    "m, k, T = sp.symbols('m, k, T', positive=True)  # Mass, Boltzmann constant, temperature\n",
    "v, theta, phi = sp.symbols('v, theta, phi', real=True)  # Spherical coordinates\n",
    "m, k, T, v, theta, phi"
   ]
  },
  {
   "cell_type": "code",
   "execution_count": null,
   "metadata": {},
   "outputs": [
    {
     "data": {
      "text/latex": [
       "$\\displaystyle \\frac{0.353553390593274 m^{1.5}}{\\pi^{1.5} T^{1.5} k^{1.5}}$"
      ],
      "text/plain": [
       "0.353553390593274*m**1.5/(pi**1.5*T**1.5*k**1.5)"
      ]
     },
     "execution_count": 153,
     "metadata": {},
     "output_type": "execute_result"
    }
   ],
   "source": [
    "норм_коэф = (m / (2 * sp.pi * k * T))**(3/2)\n",
    "норм_коэф\n"
   ]
  },
  {
   "cell_type": "code",
   "execution_count": null,
   "metadata": {},
   "outputs": [
    {
     "data": {
      "text/latex": [
       "$\\displaystyle \\frac{0.353553390593274 m^{1.5} v^{2} e^{- \\frac{m v^{2}}{2 T k}} \\sin{\\left(\\theta \\right)}}{\\pi^{1.5} T^{1.5} k^{1.5}}$"
      ],
      "text/plain": [
       "0.353553390593274*m**1.5*v**2*exp(-m*v**2/(2*T*k))*sin(theta)/(pi**1.5*T**1.5*k**1.5)"
      ]
     },
     "execution_count": 154,
     "metadata": {},
     "output_type": "execute_result"
    }
   ],
   "source": [
    "f = норм_коэф * sp.exp(-m * v**2 / (2 * k * T)) * v**2 * sp.sin(theta)\n",
    "f"
   ]
  },
  {
   "cell_type": "markdown",
   "metadata": {},
   "source": [
    "Интегрируем по $\\phi$ от $-\\pi$ до $\\pi$"
   ]
  },
  {
   "cell_type": "code",
   "execution_count": null,
   "metadata": {},
   "outputs": [
    {
     "data": {
      "text/latex": [
       "$\\displaystyle \\frac{0.707106781186548 m^{1.5} v^{2} e^{- \\frac{m v^{2}}{2 T k}} \\sin{\\left(\\theta \\right)}}{\\pi^{0.5} T^{1.5} k^{1.5}}$"
      ],
      "text/plain": [
       "0.707106781186548*m**1.5*v**2*exp(-m*v**2/(2*T*k))*sin(theta)/(pi**0.5*T**1.5*k**1.5)"
      ]
     },
     "execution_count": 155,
     "metadata": {},
     "output_type": "execute_result"
    }
   ],
   "source": [
    "интеграл_phi = sp.integrate(f, (phi, -sp.pi, sp.pi))\n",
    "интеграл_phi"
   ]
  },
  {
   "cell_type": "markdown",
   "metadata": {},
   "source": [
    "Интегрируем по $\\theta$ от $0$ до $\\pi$"
   ]
  },
  {
   "cell_type": "code",
   "execution_count": null,
   "metadata": {},
   "outputs": [
    {
     "data": {
      "text/latex": [
       "$\\displaystyle \\frac{1.4142135623731 m^{1.5} v^{2} e^{- \\frac{m v^{2}}{2 T k}}}{\\pi^{0.5} T^{1.5} k^{1.5}}$"
      ],
      "text/plain": [
       "1.4142135623731*m**1.5*v**2*exp(-m*v**2/(2*T*k))/(pi**0.5*T**1.5*k**1.5)"
      ]
     },
     "execution_count": 157,
     "metadata": {},
     "output_type": "execute_result"
    }
   ],
   "source": [
    "интеграл_theta = sp.integrate(int_phi, (theta, 0, sp.pi))\n",
    "интеграл_theta"
   ]
  },
  {
   "cell_type": "markdown",
   "metadata": {},
   "source": [
    "Интегрируем по $v$ от $0$ до $\\infty$"
   ]
  },
  {
   "cell_type": "code",
   "execution_count": null,
   "metadata": {},
   "outputs": [
    {
     "data": {
      "text/latex": [
       "$\\displaystyle 0.707106781186548 \\sqrt{2}$"
      ],
      "text/plain": [
       "0.707106781186548*sqrt(2)"
      ]
     },
     "execution_count": 159,
     "metadata": {},
     "output_type": "execute_result"
    }
   ],
   "source": [
    "рез = sp.integrate(int_theta, (v, 0, sp.oo))\n",
    "рез\n"
   ]
  },
  {
   "cell_type": "markdown",
   "metadata": {},
   "source": [
    "Интегрируем по $\\theta$ от $0$ до $\\pi$"
   ]
  },
  {
   "cell_type": "markdown",
   "metadata": {},
   "source": []
  },
  {
   "cell_type": "markdown",
   "metadata": {},
   "source": []
  }
 ],
 "metadata": {
  "kernelspec": {
   "display_name": ".venv",
   "language": "python",
   "name": "python3"
  },
  "language_info": {
   "codemirror_mode": {
    "name": "ipython",
    "version": 3
   },
   "file_extension": ".py",
   "mimetype": "text/x-python",
   "name": "python",
   "nbconvert_exporter": "python",
   "pygments_lexer": "ipython3",
   "version": "3.12.5"
  }
 },
 "nbformat": 4,
 "nbformat_minor": 2
}
