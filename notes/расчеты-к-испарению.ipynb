{
 "cells": [
  {
   "cell_type": "markdown",
   "metadata": {},
   "source": [
    "Будем использовать физическими величинами с измерениями. Модуль PhysicalQuantities сломался, не обновлялся два года, поэтому придется попробовать новое."
   ]
  },
  {
   "cell_type": "code",
   "execution_count": 8,
   "metadata": {},
   "outputs": [],
   "source": [
    "from pint import UnitRegistry\n",
    "from uncertainties import ufloat"
   ]
  },
  {
   "cell_type": "code",
   "execution_count": 9,
   "metadata": {},
   "outputs": [
    {
     "name": "stdout",
     "output_type": "stream",
     "text": [
      "10.0+/-0.5 meter\n"
     ]
    }
   ],
   "source": [
    "ureg = UnitRegistry()\n",
    "length = ufloat(10, 0.5) * ureg.meter\n",
    "print(length)  # (10 ± 0.5) m\n"
   ]
  },
  {
   "cell_type": "code",
   "execution_count": 12,
   "metadata": {},
   "outputs": [
    {
     "data": {
      "text/html": [
       "200+/-10 kilometer"
      ],
      "text/latex": [
       "$200+/-10\\ \\mathrm{kilometer}$"
      ],
      "text/plain": [
       "<Quantity(200.000+/-10.000, 'kilometer')>"
      ]
     },
     "execution_count": 12,
     "metadata": {},
     "output_type": "execute_result"
    }
   ],
   "source": [
    "H_отсчета = ufloat(200, 10) * ureg.kilometer\n",
    "H_отсчета"
   ]
  },
  {
   "cell_type": "code",
   "execution_count": 10,
   "metadata": {},
   "outputs": [
    {
     "data": {
      "text/html": [
       "(8.5+/-1.0)e-05 pascal"
      ],
      "text/latex": [
       "$(8.5+/-1.0)e-05\\ \\mathrm{pascal}$"
      ],
      "text/plain": [
       "<Quantity((8.53000+/-1.00000)e-05, 'pascal')>"
      ]
     },
     "execution_count": 10,
     "metadata": {},
     "output_type": "execute_result"
    }
   ],
   "source": [
    "P_отсчета =  ufloat(8.53, 1)* 1e-5 * ureg.pascal\n",
    "P_отсчета"
   ]
  },
  {
   "cell_type": "code",
   "execution_count": 13,
   "metadata": {},
   "outputs": [
    {
     "data": {
      "text/html": [
       "60+/-10 kilometer"
      ],
      "text/latex": [
       "$60+/-10\\ \\mathrm{kilometer}$"
      ],
      "text/plain": [
       "<Quantity(60.0000+/-10.0000, 'kilometer')>"
      ]
     },
     "execution_count": 13,
     "metadata": {},
     "output_type": "execute_result"
    }
   ],
   "source": [
    "H = ufloat(60, 10) * ureg.kilometer\n",
    "H"
   ]
  },
  {
   "cell_type": "code",
   "execution_count": 15,
   "metadata": {},
   "outputs": [
    {
     "data": {
      "text/html": [
       "8.0+/-3.0 angstrom<sup>2</sup>"
      ],
      "text/latex": [
       "$8.0+/-3.0\\ \\mathrm{angstrom}^{2}$"
      ],
      "text/plain": [
       "<Quantity(8.00000+/-3.00000, 'angstrom ** 2')>"
      ]
     },
     "execution_count": 15,
     "metadata": {},
     "output_type": "execute_result"
    }
   ],
   "source": [
    "σ = ufloat(8, 3) * ureg.angstrom * ureg.angstrom\n",
    "σ"
   ]
  },
  {
   "cell_type": "code",
   "execution_count": 16,
   "metadata": {},
   "outputs": [
    {
     "data": {
      "text/html": [
       "(8.5+/-2.0)e+02 kelvin"
      ],
      "text/latex": [
       "$(8.5+/-2.0)e+02\\ \\mathrm{kelvin}$"
      ],
      "text/plain": [
       "<Quantity(854.400+/-200.000, 'kelvin')>"
      ]
     },
     "execution_count": 16,
     "metadata": {},
     "output_type": "execute_result"
    }
   ],
   "source": [
    "T_отсчета = ufloat(854.4, 200) * ureg.kelvin\n",
    "T_отсчета"
   ]
  },
  {
   "cell_type": "code",
   "execution_count": 17,
   "metadata": {},
   "outputs": [
    {
     "data": {
      "text/html": [
       "(1.00+/-0.20)e+03 kelvin"
      ],
      "text/latex": [
       "$(1.00+/-0.20)e+03\\ \\mathrm{kelvin}$"
      ],
      "text/plain": [
       "<Quantity(1000.00+/-200.00, 'kelvin')>"
      ]
     },
     "execution_count": 17,
     "metadata": {},
     "output_type": "execute_result"
    }
   ],
   "source": [
    "T_экзосферы = ufloat(1000, 200) * ureg.kelvin\n",
    "T_экзосферы"
   ]
  },
  {
   "cell_type": "code",
   "execution_count": 22,
   "metadata": {},
   "outputs": [
    {
     "data": {
      "text/html": [
       "boltzmann_constant"
      ],
      "text/latex": [
       "$\\mathrm{boltzmann\\_constant}$"
      ],
      "text/plain": [
       "<Unit('boltzmann_constant')>"
      ]
     },
     "execution_count": 22,
     "metadata": {},
     "output_type": "execute_result"
    }
   ],
   "source": [
    "ureg.boltzmann_constant"
   ]
  },
  {
   "cell_type": "code",
   "execution_count": 18,
   "metadata": {},
   "outputs": [
    {
     "data": {
      "text/html": [
       "2.1+/-1.0 boltzmann_constant kelvin/(angstrom<sup>2</sup> kilometer)"
      ],
      "text/latex": [
       "$2.1+/-1.0\\ \\frac{\\mathrm{boltzmann\\_constant} \\cdot \\mathrm{kelvin}}{\\left(\\mathrm{angstrom}^{2} \\cdot \\mathrm{kilometer}\\right)}$"
      ],
      "text/plain": [
       "<Quantity(2.08333+/-0.95107, 'boltzmann_constant * kelvin / angstrom ** 2 / kilometer')>"
      ]
     },
     "execution_count": 18,
     "metadata": {},
     "output_type": "execute_result"
    }
   ],
   "source": [
    "h_экз = ureg.boltzmann_constant * T_экзосферы /  σ / H\n",
    "h_экз"
   ]
  },
  {
   "cell_type": "code",
   "execution_count": 25,
   "metadata": {},
   "outputs": [
    {
     "ename": "AttributeError",
     "evalue": "'Unit' object has no attribute 'magnitude'",
     "output_type": "error",
     "traceback": [
      "\u001b[31m---------------------------------------------------------------------------\u001b[39m",
      "\u001b[31mAttributeError\u001b[39m                            Traceback (most recent call last)",
      "\u001b[36mCell\u001b[39m\u001b[36m \u001b[39m\u001b[32mIn[25]\u001b[39m\u001b[32m, line 4\u001b[39m\n\u001b[32m      2\u001b[39m ureg = UnitRegistry()\n\u001b[32m      3\u001b[39m k = ureg.boltzmann_constant\n\u001b[32m----> \u001b[39m\u001b[32m4\u001b[39m \u001b[38;5;28mprint\u001b[39m(\u001b[43mk\u001b[49m\u001b[43m.\u001b[49m\u001b[43mmagnitude\u001b[49m)  \u001b[38;5;66;03m# 1.380649e-23 joule / kelvin\u001b[39;00m\n",
      "\u001b[31mAttributeError\u001b[39m: 'Unit' object has no attribute 'magnitude'"
     ]
    }
   ],
   "source": [
    "from pint import UnitRegistry\n",
    "ureg = UnitRegistry()\n",
    "k = ureg.boltzmann_constant\n",
    "print(k.magnitude)  \n"
   ]
  }
 ],
 "metadata": {
  "kernelspec": {
   "display_name": ".venv",
   "language": "python",
   "name": "python3"
  },
  "language_info": {
   "codemirror_mode": {
    "name": "ipython",
    "version": 3
   },
   "file_extension": ".py",
   "mimetype": "text/x-python",
   "name": "python",
   "nbconvert_exporter": "python",
   "pygments_lexer": "ipython3",
   "version": "3.12.5"
  }
 },
 "nbformat": 4,
 "nbformat_minor": 2
}
