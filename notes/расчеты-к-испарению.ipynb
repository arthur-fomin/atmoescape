{
 "cells": [
  {
   "cell_type": "markdown",
   "metadata": {},
   "source": [
    "Будем использовать физическими величинами с измерениями. Модуль PhysicalQuantities сломался, не обновлялся два года, поэтому придется попробовать `pint` + `uncertainties`."
   ]
  },
  {
   "cell_type": "code",
   "execution_count": 89,
   "metadata": {},
   "outputs": [],
   "source": [
    "from pint import UnitRegistry\n",
    "from uncertainties import ufloat, umath\n",
    "from scipy.constants import k as k_J_per_K\n",
    "from scipy.constants import pi\n",
    "import sympy as sp"
   ]
  },
  {
   "cell_type": "code",
   "execution_count": 90,
   "metadata": {},
   "outputs": [],
   "source": [
    "ureg = UnitRegistry()"
   ]
  },
  {
   "cell_type": "code",
   "execution_count": 91,
   "metadata": {},
   "outputs": [
    {
     "data": {
      "text/html": [
       "(2.000+/-0.010)e+05 meter"
      ],
      "text/latex": [
       "$(2.000+/-0.010)e+05\\ \\mathrm{meter}$"
      ],
      "text/plain": [
       "<Quantity(200000+/-1000, 'meter')>"
      ]
     },
     "execution_count": 91,
     "metadata": {},
     "output_type": "execute_result"
    }
   ],
   "source": [
    "H_отсчета = (ufloat(200, 1) * ureg.kilometer).to_base_units()\n",
    "H_отсчета"
   ]
  },
  {
   "cell_type": "code",
   "execution_count": 92,
   "metadata": {},
   "outputs": [
    {
     "data": {
      "text/html": [
       "(8.0+/-1.0)e-05 kilogram/(meter second<sup>2</sup>)"
      ],
      "text/latex": [
       "$(8.0+/-1.0)e-05\\ \\frac{\\mathrm{kilogram}}{\\left(\\mathrm{meter} \\cdot \\mathrm{second}^{2}\\right)}$"
      ],
      "text/plain": [
       "<Quantity((8.00000+/-1.00000)e-05, 'kilogram / meter / second ** 2')>"
      ]
     },
     "execution_count": 92,
     "metadata": {},
     "output_type": "execute_result"
    }
   ],
   "source": [
    "P_отсчета =  (ufloat(8, 1)* 1e-5 * ureg.pascal).to_base_units()\n",
    "P_отсчета"
   ]
  },
  {
   "cell_type": "code",
   "execution_count": 93,
   "metadata": {},
   "outputs": [
    {
     "data": {
      "text/html": [
       "(7.0+/-1.0)e+04 meter"
      ],
      "text/latex": [
       "$(7.0+/-1.0)e+04\\ \\mathrm{meter}$"
      ],
      "text/plain": [
       "<Quantity(70000.0+/-10000.0, 'meter')>"
      ]
     },
     "execution_count": 93,
     "metadata": {},
     "output_type": "execute_result"
    }
   ],
   "source": [
    "H = (ufloat(70, 10) * ureg.kilometer).to_base_units()\n",
    "H"
   ]
  },
  {
   "cell_type": "code",
   "execution_count": 94,
   "metadata": {},
   "outputs": [
    {
     "data": {
      "text/html": [
       "(8.0+/-2.0)e-20 meter<sup>2</sup>"
      ],
      "text/latex": [
       "$(8.0+/-2.0)e-20\\ \\mathrm{meter}^{2}$"
      ],
      "text/plain": [
       "<Quantity((8.00000+/-2.00000)e-20, 'meter ** 2')>"
      ]
     },
     "execution_count": 94,
     "metadata": {},
     "output_type": "execute_result"
    }
   ],
   "source": [
    "σ = (ufloat(8, 2) * ureg.angstrom * ureg.angstrom).to_base_units()\n",
    "σ"
   ]
  },
  {
   "cell_type": "code",
   "execution_count": 95,
   "metadata": {},
   "outputs": [
    {
     "data": {
      "text/html": [
       "(8.5+/-2.0)e+02 kelvin"
      ],
      "text/latex": [
       "$(8.5+/-2.0)e+02\\ \\mathrm{kelvin}$"
      ],
      "text/plain": [
       "<Quantity(854.400+/-200.000, 'kelvin')>"
      ]
     },
     "execution_count": 95,
     "metadata": {},
     "output_type": "execute_result"
    }
   ],
   "source": [
    "T_отсчета = (ufloat(854.4, 200) * ureg.K).to_base_units()\n",
    "T_отсчета"
   ]
  },
  {
   "cell_type": "code",
   "execution_count": 96,
   "metadata": {},
   "outputs": [
    {
     "data": {
      "text/html": [
       "(1.00+/-0.30)e+03 kelvin"
      ],
      "text/latex": [
       "$(1.00+/-0.30)e+03\\ \\mathrm{kelvin}$"
      ],
      "text/plain": [
       "<Quantity(1000.00+/-300.00, 'kelvin')>"
      ]
     },
     "execution_count": 96,
     "metadata": {},
     "output_type": "execute_result"
    }
   ],
   "source": [
    "T_экзосферы = (ufloat(1000, 300) * ureg.kelvin).to_base_units()\n",
    "T_экзосферы"
   ]
  },
  {
   "cell_type": "markdown",
   "metadata": {},
   "source": [
    "Todo: разобраться, почему `ureg` не может сам разобраться с конверсией единиц измерения, и почему там константы типа Units, а не Quantities"
   ]
  },
  {
   "cell_type": "code",
   "execution_count": 97,
   "metadata": {},
   "outputs": [
    {
     "data": {
      "text/html": [
       "1.380649×10<sup>-23</sup> kilogram meter<sup>2</sup>/(kelvin second<sup>2</sup>)"
      ],
      "text/latex": [
       "$1.380649\\times 10^{-23}\\ \\frac{\\mathrm{kilogram} \\cdot \\mathrm{meter}^{2}}{\\left(\\mathrm{kelvin} \\cdot \\mathrm{second}^{2}\\right)}$"
      ],
      "text/plain": [
       "<Quantity(1.380649e-23, 'kilogram * meter ** 2 / second ** 2 / kelvin')>"
      ]
     },
     "execution_count": 97,
     "metadata": {},
     "output_type": "execute_result"
    }
   ],
   "source": [
    "k = (k_J_per_K * ureg.J / ureg.K).to_base_units()\n",
    "k"
   ]
  },
  {
   "cell_type": "code",
   "execution_count": 98,
   "metadata": {},
   "outputs": [
    {
     "data": {
      "text/html": [
       "(2.5+/-1.0)e-06 pascal"
      ],
      "text/latex": [
       "$(2.5+/-1.0)e-06\\ \\mathrm{pascal}$"
      ],
      "text/plain": [
       "<Quantity((2.46544+/-1.02519)e-06, 'pascal')>"
      ]
     },
     "execution_count": 98,
     "metadata": {},
     "output_type": "execute_result"
    }
   ],
   "source": [
    "p_экз = k * T_экзосферы /  σ / H\n",
    "p_экз.to('pascal')"
   ]
  },
  {
   "cell_type": "code",
   "execution_count": 99,
   "metadata": {},
   "outputs": [
    {
     "data": {
      "text/html": [
       "(4.4+/-0.5)e+02 kilometer"
      ],
      "text/latex": [
       "$(4.4+/-0.5)e+02\\ \\mathrm{kilometer}$"
      ],
      "text/plain": [
       "<Quantity(443.576+/-53.212, 'kilometer')>"
      ]
     },
     "execution_count": 99,
     "metadata": {},
     "output_type": "execute_result"
    }
   ],
   "source": [
    "h_экз = H_отсчета + H * umath.log( (P_отсчета / p_экз).magnitude )\n",
    "h_экз.to('km')"
   ]
  },
  {
   "cell_type": "code",
   "execution_count": 100,
   "metadata": {},
   "outputs": [
    {
     "data": {
      "text/html": [
       "(4.4+/-0.5)e+05 meter"
      ],
      "text/latex": [
       "$(4.4+/-0.5)e+05\\ \\mathrm{meter}$"
      ],
      "text/plain": [
       "<Quantity(443576+/-53212, 'meter')>"
      ]
     },
     "execution_count": 100,
     "metadata": {},
     "output_type": "execute_result"
    }
   ],
   "source": [
    "h_экз = h_экз.to_base_units()\n",
    "h_экз"
   ]
  },
  {
   "cell_type": "markdown",
   "metadata": {},
   "source": [
    "----"
   ]
  },
  {
   "cell_type": "code",
   "execution_count": 101,
   "metadata": {},
   "outputs": [
    {
     "data": {
      "text/html": [
       "6.6743×10<sup>-11</sup> meter<sup>3</sup>/(kilogram second<sup>2</sup>)"
      ],
      "text/latex": [
       "$6.6743\\times 10^{-11}\\ \\frac{\\mathrm{meter}^{3}}{\\left(\\mathrm{kilogram} \\cdot \\mathrm{second}^{2}\\right)}$"
      ],
      "text/plain": [
       "<Quantity(6.6743e-11, 'meter ** 3 / kilogram / second ** 2')>"
      ]
     },
     "execution_count": 101,
     "metadata": {},
     "output_type": "execute_result"
    }
   ],
   "source": [
    "G = (1 * ureg.gravitational_constant).to_base_units()\n",
    "G"
   ]
  },
  {
   "cell_type": "code",
   "execution_count": 102,
   "metadata": {},
   "outputs": [
    {
     "data": {
      "text/html": [
       "(5.9722+/-0.0012)e+24 kilogram"
      ],
      "text/latex": [
       "$(5.9722+/-0.0012)e+24\\ \\mathrm{kilogram}$"
      ],
      "text/plain": [
       "<Quantity((5.97220+/-0.00120)e+24, 'kilogram')>"
      ]
     },
     "execution_count": 102,
     "metadata": {},
     "output_type": "execute_result"
    }
   ],
   "source": [
    "M_земли = ufloat(5.9722e24, 1.2e21) * ureg.kg\n",
    "M_земли"
   ]
  },
  {
   "cell_type": "code",
   "execution_count": 103,
   "metadata": {},
   "outputs": [
    {
     "data": {
      "text/html": [
       "(6.371+/-0.010)e+06 meter"
      ],
      "text/latex": [
       "$(6.371+/-0.010)e+06\\ \\mathrm{meter}$"
      ],
      "text/plain": [
       "<Quantity((6.37100+/-0.01000)e+06, 'meter')>"
      ]
     },
     "execution_count": 103,
     "metadata": {},
     "output_type": "execute_result"
    }
   ],
   "source": [
    "R_земли = (ufloat(6.371e6, 1e4) * ureg.meter).to_base_units()\n",
    "R_земли"
   ]
  },
  {
   "cell_type": "code",
   "execution_count": 104,
   "metadata": {},
   "outputs": [
    {
     "data": {
      "text/html": [
       "(6.81+/-0.05)e+06 meter"
      ],
      "text/latex": [
       "$(6.81+/-0.05)e+06\\ \\mathrm{meter}$"
      ],
      "text/plain": [
       "<Quantity((6.81458+/-0.05414)e+06, 'meter')>"
      ]
     },
     "execution_count": 104,
     "metadata": {},
     "output_type": "execute_result"
    }
   ],
   "source": [
    "R_земли+h_экз"
   ]
  },
  {
   "cell_type": "code",
   "execution_count": 105,
   "metadata": {},
   "outputs": [
    {
     "data": {
      "text/html": [
       "(1.170+/-0.009)e+08 meter<sup>2</sup>/second<sup>2</sup>"
      ],
      "text/latex": [
       "$(1.170+/-0.009)e+08\\ \\frac{\\mathrm{meter}^{2}}{\\mathrm{second}^{2}}$"
      ],
      "text/plain": [
       "<Quantity((1.16985+/-0.00930)e+08, 'meter ** 2 / second ** 2')>"
      ]
     },
     "execution_count": 105,
     "metadata": {},
     "output_type": "execute_result"
    }
   ],
   "source": [
    "v_esc_2 = 2*G*M_земли/(R_земли+h_экз)\n",
    "v_esc_2"
   ]
  },
  {
   "cell_type": "markdown",
   "metadata": {},
   "source": [
    "Разобраться, почему pint не поддерживает корни из квадратичных единиц измерения"
   ]
  },
  {
   "cell_type": "code",
   "execution_count": 106,
   "metadata": {},
   "outputs": [
    {
     "data": {
      "text/plain": [
       "10815.97357436471+/-42.981716415365625"
      ]
     },
     "execution_count": 106,
     "metadata": {},
     "output_type": "execute_result"
    }
   ],
   "source": [
    "v_побега_м_с = umath.sqrt(v_esc_2.magnitude)\n",
    "v_побега_м_с"
   ]
  },
  {
   "cell_type": "markdown",
   "metadata": {},
   "source": [
    "Ага, поддерживает, но не через `umath.sqrt`"
   ]
  },
  {
   "cell_type": "code",
   "execution_count": 107,
   "metadata": {},
   "outputs": [
    {
     "data": {
      "text/html": [
       "(1.082+/-0.004)e+04 meter/second"
      ],
      "text/latex": [
       "$(1.082+/-0.004)e+04\\ \\frac{\\mathrm{meter}}{\\mathrm{second}}$"
      ],
      "text/plain": [
       "<Quantity(10816.0+/-43.0, 'meter / second')>"
      ]
     },
     "execution_count": 107,
     "metadata": {},
     "output_type": "execute_result"
    }
   ],
   "source": [
    "v_esc = (2*G*M_земли/(R_земли+h_экз))**(1/2)\n",
    "v_esc"
   ]
  },
  {
   "cell_type": "code",
   "execution_count": 108,
   "metadata": {},
   "outputs": [
    {
     "data": {
      "text/plain": [
       "10815.97357436471"
      ]
     },
     "execution_count": 108,
     "metadata": {},
     "output_type": "execute_result"
    }
   ],
   "source": [
    "v_esc.nominal_value"
   ]
  },
  {
   "cell_type": "markdown",
   "metadata": {},
   "source": [
    "----"
   ]
  },
  {
   "cell_type": "code",
   "execution_count": 109,
   "metadata": {},
   "outputs": [
    {
     "data": {
      "text/plain": [
       "(m, k, T, v, theta, phi)"
      ]
     },
     "execution_count": 109,
     "metadata": {},
     "output_type": "execute_result"
    }
   ],
   "source": [
    "m, k, T = sp.symbols('m, k, T', positive=True)  # Mass, Boltzmann constant, temperature\n",
    "v, theta, phi = sp.symbols('v, theta, phi', real=True)  # Spherical coordinates\n",
    "m, k, T, v, theta, phi"
   ]
  },
  {
   "cell_type": "code",
   "execution_count": 110,
   "metadata": {},
   "outputs": [
    {
     "data": {
      "text/latex": [
       "$\\displaystyle \\frac{0.353553390593274 m^{1.5}}{\\pi^{1.5} T^{1.5} k^{1.5}}$"
      ],
      "text/plain": [
       "0.353553390593274*m**1.5/(pi**1.5*T**1.5*k**1.5)"
      ]
     },
     "execution_count": 110,
     "metadata": {},
     "output_type": "execute_result"
    }
   ],
   "source": [
    "норм_коэф = (m / (2 * sp.pi * k * T))**(3/2)\n",
    "норм_коэф\n"
   ]
  },
  {
   "cell_type": "code",
   "execution_count": 111,
   "metadata": {},
   "outputs": [
    {
     "data": {
      "text/latex": [
       "$\\displaystyle \\frac{0.353553390593274 m^{1.5} v^{2} e^{- \\frac{m v^{2}}{2 T k}} \\sin{\\left(\\theta \\right)}}{\\pi^{1.5} T^{1.5} k^{1.5}}$"
      ],
      "text/plain": [
       "0.353553390593274*m**1.5*v**2*exp(-m*v**2/(2*T*k))*sin(theta)/(pi**1.5*T**1.5*k**1.5)"
      ]
     },
     "execution_count": 111,
     "metadata": {},
     "output_type": "execute_result"
    }
   ],
   "source": [
    "f = норм_коэф * sp.exp(-m * v**2 / (2 * k * T)) * v**2 * sp.sin(theta)\n",
    "f"
   ]
  },
  {
   "cell_type": "markdown",
   "metadata": {},
   "source": [
    "Интегрируем по $\\phi$ от $-\\pi$ до $\\pi$"
   ]
  },
  {
   "cell_type": "code",
   "execution_count": 112,
   "metadata": {},
   "outputs": [
    {
     "data": {
      "text/latex": [
       "$\\displaystyle \\frac{0.707106781186548 m^{1.5} v^{2} e^{- \\frac{m v^{2}}{2 T k}} \\sin{\\left(\\theta \\right)}}{\\pi^{0.5} T^{1.5} k^{1.5}}$"
      ],
      "text/plain": [
       "0.707106781186548*m**1.5*v**2*exp(-m*v**2/(2*T*k))*sin(theta)/(pi**0.5*T**1.5*k**1.5)"
      ]
     },
     "execution_count": 112,
     "metadata": {},
     "output_type": "execute_result"
    }
   ],
   "source": [
    "интеграл_phi = sp.integrate(f, (phi, -sp.pi, sp.pi))\n",
    "интеграл_phi"
   ]
  },
  {
   "cell_type": "markdown",
   "metadata": {},
   "source": [
    "Интегрируем по $\\theta$ от $0$ до $\\pi$"
   ]
  },
  {
   "cell_type": "code",
   "execution_count": 113,
   "metadata": {},
   "outputs": [
    {
     "data": {
      "text/latex": [
       "$\\displaystyle \\frac{1.4142135623731 m^{1.5} v^{2} e^{- \\frac{m v^{2}}{2 T k}}}{\\pi^{0.5} T^{1.5} k^{1.5}}$"
      ],
      "text/plain": [
       "1.4142135623731*m**1.5*v**2*exp(-m*v**2/(2*T*k))/(pi**0.5*T**1.5*k**1.5)"
      ]
     },
     "execution_count": 113,
     "metadata": {},
     "output_type": "execute_result"
    }
   ],
   "source": [
    "интеграл_theta = sp.integrate(интеграл_phi, (theta, 0, sp.pi))\n",
    "интеграл_theta"
   ]
  },
  {
   "cell_type": "markdown",
   "metadata": {},
   "source": [
    "Тут жалко, что у `sympy` нет нативной интеграции `uncertainties`, но для реальных задач [можно помучится, переводя ufloat в AccumBounds](https://stackoverflow.com/questions/68097744/substitute-values-with-uncertainties-in-sympy)"
   ]
  },
  {
   "cell_type": "code",
   "execution_count": 114,
   "metadata": {},
   "outputs": [],
   "source": [
    "def uf2ab(value):\n",
    "    '''\n",
    "    Возможно не очень корректно закладывать СтдОткл, но пока сойдет так\n",
    "    '''\n",
    "    nom = value.nominal_value  \n",
    "    unc = value.std_dev  \n",
    "    bounds = sp.AccumBounds(nom - unc, nom + unc) \n",
    "    return bounds\n"
   ]
  },
  {
   "cell_type": "markdown",
   "metadata": {},
   "source": [
    "Интегрируем по $v$ от $v_{esc}$ до $\\infty$"
   ]
  },
  {
   "cell_type": "code",
   "execution_count": 115,
   "metadata": {},
   "outputs": [
    {
     "data": {
      "text/latex": [
       "$\\displaystyle \\frac{894709100454.91 m^{1.5} \\left(- \\frac{3.72560570987656 \\cdot 10^{-13} \\sqrt{\\pi} T^{\\frac{3}{2}} k^{\\frac{3}{2}} \\left(3 + \\frac{350955853.084067 m}{T k}\\right) \\operatorname{erf}{\\left(\\frac{7648.04825956779 \\sqrt{m}}{\\sqrt{T} \\sqrt{k}} \\right)}}{m^{\\frac{3}{2}}} + \\frac{1.11768171296297 \\cdot 10^{-12} \\sqrt{\\pi} T^{\\frac{3}{2}} k^{\\frac{3}{2}}}{m^{\\frac{3}{2}}} + \\frac{1.70961673591544 \\cdot 10^{-8} T k \\left(e^{- \\frac{58492642.1806779 m}{T k}} + \\frac{7648.04825956779 \\sqrt{\\pi} \\sqrt{m} \\operatorname{erf}{\\left(\\frac{7648.04825956779 \\sqrt{m}}{\\sqrt{T} \\sqrt{k}} \\right)}}{\\sqrt{T} \\sqrt{k}}\\right)}{m}\\right)}{\\pi^{0.5} T^{1.5} k^{1.5}}$"
      ],
      "text/plain": [
       "894709100454.91*m**1.5*(-3.72560570987656e-13*sqrt(pi)*T**(3/2)*k**(3/2)*(3 + 350955853.084067*m/(T*k))*erf(7648.04825956779*sqrt(m)/(sqrt(T)*sqrt(k)))/m**(3/2) + 1.11768171296297e-12*sqrt(pi)*T**(3/2)*k**(3/2)/m**(3/2) + 1.70961673591544e-8*T*k*(exp(-58492642.1806779*m/(T*k)) + 7648.04825956779*sqrt(pi)*sqrt(m)*erf(7648.04825956779*sqrt(m)/(sqrt(T)*sqrt(k)))/(sqrt(T)*sqrt(k)))/m)/(pi**0.5*T**1.5*k**1.5)"
      ]
     },
     "execution_count": 115,
     "metadata": {},
     "output_type": "execute_result"
    }
   ],
   "source": [
    "рез = sp.integrate(интеграл_theta, (v, v_esc.nominal_value, sp.oo))\n",
    "рез\n"
   ]
  },
  {
   "cell_type": "code",
   "execution_count": 116,
   "metadata": {},
   "outputs": [],
   "source": [
    "m_H_кг = 1.67e-27"
   ]
  },
  {
   "cell_type": "code",
   "execution_count": 117,
   "metadata": {},
   "outputs": [
    {
     "data": {
      "text/latex": [
       "$\\displaystyle 0.00270759621084221$"
      ],
      "text/plain": [
       "0.00270759621084221"
      ]
     },
     "execution_count": 117,
     "metadata": {},
     "output_type": "execute_result"
    }
   ],
   "source": [
    "P_побега = рез.subs({  T:T_экзосферы.nominal_value, \n",
    "            k:k_J_per_K,\n",
    "            m:m_H_кг\n",
    "            }).evalf()\n",
    "P_побега            "
   ]
  },
  {
   "cell_type": "code",
   "execution_count": 118,
   "metadata": {},
   "outputs": [
    {
     "data": {
      "text/latex": [
       "$\\displaystyle \\frac{671516.519817314 \\left(\\left(\\operatorname{erf}{\\left(\\left\\langle 2.33289685574736, 3.17920251937106\\right\\rangle \\right)} \\left\\langle 4.13495201573478, 5.63498974826775\\right\\rangle + \\left\\langle 4.07795976519327 \\cdot 10^{-5}, 0.00432904749357391\\right\\rangle\\right) \\left\\langle 0.098938110525595, 0.183742205261819\\right\\rangle + \\operatorname{erf}{\\left(\\left\\langle 2.33289685574736, 3.17920251937106\\right\\rangle \\right)} \\left\\langle -1.480792984893, -0.327780265196198\\right\\rangle + \\left\\langle 0.0275797521444306, 0.0698004668504409\\right\\rangle\\right)}{\\left\\langle 18520.2591774521, 46872.1665810319\\right\\rangle}$"
      ],
      "text/plain": [
       "671516.519817314*((erf(AccumBounds(2.33289685574736, 3.17920251937106))*AccumBounds(4.13495201573478, 5.63498974826775) + AccumBounds(4.07795976519327e-5, 0.00432904749357391))*AccumBounds(0.098938110525595, 0.183742205261819) + erf(AccumBounds(2.33289685574736, 3.17920251937106))*AccumBounds(-1.480792984893, -0.327780265196198) + AccumBounds(0.0275797521444306, 0.0698004668504409))/AccumBounds(700.0, 1300.0)**1.5"
      ]
     },
     "execution_count": 118,
     "metadata": {},
     "output_type": "execute_result"
    }
   ],
   "source": [
    "# Когда-нибудь разобраться, почему не получилось так\n",
    "рез.subs({  T: uf2ab(T_экзосферы), \n",
    "            k:k_J_per_K,\n",
    "            m:m_H_кг\n",
    "            }).evalf()"
   ]
  },
  {
   "cell_type": "markdown",
   "metadata": {},
   "source": [
    "---"
   ]
  },
  {
   "cell_type": "code",
   "execution_count": 119,
   "metadata": {},
   "outputs": [
    {
     "data": {
      "text/latex": [
       "$\\displaystyle \\frac{0.353553390593274 m^{1.5} n_{H} v^{3} e^{- \\frac{m v^{2}}{2 T k}}}{\\pi^{0.5} T^{1.5} k^{1.5}}$"
      ],
      "text/plain": [
       "0.353553390593274*m**1.5*n_H*v**3*exp(-m*v**2/(2*T*k))/(pi**0.5*T**1.5*k**1.5)"
      ]
     },
     "execution_count": 119,
     "metadata": {},
     "output_type": "execute_result"
    }
   ],
   "source": [
    "n_H = sp.symbols('n_H', positive=True)\n",
    "\n",
    "норм_коэф = n_H * (m / (2 * sp.pi * k * T))**(3/2)\n",
    "f = норм_коэф * sp.exp(-m * v**2 / (2 * k * T)) * v**3 * sp.sin(theta) * sp.cos(theta)\n",
    "интеграл_phi = sp.integrate(f, (phi, -sp.pi, sp.pi))\n",
    "интеграл_theta = sp.integrate(интеграл_phi, (theta, 0, sp.pi/2))\n",
    "интеграл_theta"
   ]
  },
  {
   "cell_type": "code",
   "execution_count": 120,
   "metadata": {},
   "outputs": [
    {
     "data": {
      "text/latex": [
       "$\\displaystyle \\frac{2.41928749681598 \\cdot 10^{15} T^{0.5} k^{0.5} n_{H} \\left(2.92278938372215 \\cdot 10^{-16} + \\frac{1.70961673591544 \\cdot 10^{-8} m}{T k}\\right) e^{- \\frac{58492642.1806779 m}{T k}}}{\\pi^{0.5} m^{0.5}}$"
      ],
      "text/plain": [
       "2.41928749681598e+15*T**0.5*k**0.5*n_H*(2.92278938372215e-16 + 1.70961673591544e-8*m/(T*k))*exp(-58492642.1806779*m/(T*k))/(pi**0.5*m**0.5)"
      ]
     },
     "execution_count": 120,
     "metadata": {},
     "output_type": "execute_result"
    }
   ],
   "source": [
    "рез = sp.integrate(интеграл_theta, (v, v_esc.nominal_value, sp.oo))\n",
    "рез"
   ]
  },
  {
   "cell_type": "markdown",
   "metadata": {},
   "source": []
  },
  {
   "cell_type": "code",
   "execution_count": 121,
   "metadata": {},
   "outputs": [],
   "source": [
    "n_H_м3 = 1e11"
   ]
  },
  {
   "cell_type": "code",
   "execution_count": 122,
   "metadata": {},
   "outputs": [
    {
     "data": {
      "text/latex": [
       "$\\displaystyle 783525351902.222$"
      ],
      "text/plain": [
       "783525351902.222"
      ]
     },
     "execution_count": 122,
     "metadata": {},
     "output_type": "execute_result"
    }
   ],
   "source": [
    "Ф_м2_с = рез.subs({  T:T_экзосферы.nominal_value, \n",
    "                k:k_J_per_K,\n",
    "                m:m_H_кг,\n",
    "                n_H: n_H_м3\n",
    "            }).evalf()\n",
    "Ф_м2_с            "
   ]
  },
  {
   "cell_type": "markdown",
   "metadata": {},
   "source": [
    "----"
   ]
  },
  {
   "cell_type": "code",
   "execution_count": 123,
   "metadata": {},
   "outputs": [],
   "source": [
    "M_атм = 29 * ureg.gram / ureg.mole  \n",
    "N_A = 6.02214076e23 / ureg.mole\n",
    "P_0 = 1e5 * ureg.pascal \n",
    "chi_H = 5.5e-7 * ureg.dimensionless "
   ]
  },
  {
   "cell_type": "code",
   "execution_count": 124,
   "metadata": {},
   "outputs": [
    {
     "data": {
      "text/html": [
       "standard_gravity"
      ],
      "text/latex": [
       "$\\mathrm{standard\\_gravity}$"
      ],
      "text/plain": [
       "<Unit('standard_gravity')>"
      ]
     },
     "execution_count": 124,
     "metadata": {},
     "output_type": "execute_result"
    }
   ],
   "source": [
    "ureg.g0"
   ]
  },
  {
   "cell_type": "code",
   "execution_count": 125,
   "metadata": {},
   "outputs": [
    {
     "data": {
      "text/html": [
       "(5.201+/-0.016)e+18 kilogram"
      ],
      "text/latex": [
       "$(5.201+/-0.016)e+18\\ \\mathrm{kilogram}$"
      ],
      "text/plain": [
       "<Quantity((5.20121+/-0.01633)e+18, 'kilogram')>"
      ]
     },
     "execution_count": 125,
     "metadata": {},
     "output_type": "execute_result"
    }
   ],
   "source": [
    "m_атм = (4 * pi * (R_земли**2 * P_0 / (1.0 * ureg.g0)) ).to_base_units()\n",
    "m_атм"
   ]
  },
  {
   "cell_type": "code",
   "execution_count": 127,
   "metadata": {},
   "outputs": [
    {
     "data": {
      "text/html": [
       "(1.0801+/-0.0034)e+44 dimensionless"
      ],
      "text/latex": [
       "$(1.0801+/-0.0034)e+44\\ \\mathrm{dimensionless}$"
      ],
      "text/plain": [
       "<Quantity((1.08008+/-0.00339)e+44, 'dimensionless')>"
      ]
     },
     "execution_count": 127,
     "metadata": {},
     "output_type": "execute_result"
    }
   ],
   "source": [
    "N = (N_A * m_атм / M_атм).to_base_units()\n",
    "N"
   ]
  },
  {
   "cell_type": "markdown",
   "metadata": {},
   "source": []
  }
 ],
 "metadata": {
  "kernelspec": {
   "display_name": ".venv",
   "language": "python",
   "name": "python3"
  },
  "language_info": {
   "codemirror_mode": {
    "name": "ipython",
    "version": 3
   },
   "file_extension": ".py",
   "mimetype": "text/x-python",
   "name": "python",
   "nbconvert_exporter": "python",
   "pygments_lexer": "ipython3",
   "version": "3.12.5"
  }
 },
 "nbformat": 4,
 "nbformat_minor": 2
}
