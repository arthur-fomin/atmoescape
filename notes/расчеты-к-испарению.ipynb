{
 "cells": [
  {
   "cell_type": "markdown",
   "metadata": {},
   "source": [
    "Будем использовать физическими величинами с измерениями. Модуль PhysicalQuantities сломался, не обновлялся два года, поэтому придется попробовать `pint` + `uncertainties`."
   ]
  },
  {
   "cell_type": "code",
   "execution_count": 128,
   "metadata": {},
   "outputs": [],
   "source": [
    "from pint import UnitRegistry\n",
    "from uncertainties import ufloat, umath\n",
    "from scipy.constants import k as k_J_per_K\n"
   ]
  },
  {
   "cell_type": "code",
   "execution_count": 129,
   "metadata": {},
   "outputs": [
    {
     "data": {
      "text/html": [
       "(2.000+/-0.010)e+05 meter"
      ],
      "text/latex": [
       "$(2.000+/-0.010)e+05\\ \\mathrm{meter}$"
      ],
      "text/plain": [
       "<Quantity(200000+/-1000, 'meter')>"
      ]
     },
     "execution_count": 129,
     "metadata": {},
     "output_type": "execute_result"
    }
   ],
   "source": [
    "H_отсчета = (ufloat(200, 1) * ureg.kilometer).to_base_units()\n",
    "H_отсчета"
   ]
  },
  {
   "cell_type": "code",
   "execution_count": 130,
   "metadata": {},
   "outputs": [
    {
     "data": {
      "text/html": [
       "(8.0+/-1.0)e-05 kilogram/(meter second<sup>2</sup>)"
      ],
      "text/latex": [
       "$(8.0+/-1.0)e-05\\ \\frac{\\mathrm{kilogram}}{\\left(\\mathrm{meter} \\cdot \\mathrm{second}^{2}\\right)}$"
      ],
      "text/plain": [
       "<Quantity((8.00000+/-1.00000)e-05, 'kilogram / meter / second ** 2')>"
      ]
     },
     "execution_count": 130,
     "metadata": {},
     "output_type": "execute_result"
    }
   ],
   "source": [
    "P_отсчета =  (ufloat(8, 1)* 1e-5 * ureg.pascal).to_base_units()\n",
    "P_отсчета"
   ]
  },
  {
   "cell_type": "code",
   "execution_count": 131,
   "metadata": {},
   "outputs": [
    {
     "data": {
      "text/html": [
       "(6.0+/-1.0)e+04 meter"
      ],
      "text/latex": [
       "$(6.0+/-1.0)e+04\\ \\mathrm{meter}$"
      ],
      "text/plain": [
       "<Quantity(60000.0+/-10000.0, 'meter')>"
      ]
     },
     "execution_count": 131,
     "metadata": {},
     "output_type": "execute_result"
    }
   ],
   "source": [
    "H = (ufloat(60, 10) * ureg.kilometer).to_base_units()\n",
    "H"
   ]
  },
  {
   "cell_type": "code",
   "execution_count": 132,
   "metadata": {},
   "outputs": [
    {
     "data": {
      "text/html": [
       "(8.0+/-2.0)e-20 meter<sup>2</sup>"
      ],
      "text/latex": [
       "$(8.0+/-2.0)e-20\\ \\mathrm{meter}^{2}$"
      ],
      "text/plain": [
       "<Quantity((8.00000+/-2.00000)e-20, 'meter ** 2')>"
      ]
     },
     "execution_count": 132,
     "metadata": {},
     "output_type": "execute_result"
    }
   ],
   "source": [
    "σ = (ufloat(8, 2) * ureg.angstrom * ureg.angstrom).to_base_units()\n",
    "σ"
   ]
  },
  {
   "cell_type": "code",
   "execution_count": 133,
   "metadata": {},
   "outputs": [
    {
     "data": {
      "text/html": [
       "(8.5+/-2.0)e+02 kelvin"
      ],
      "text/latex": [
       "$(8.5+/-2.0)e+02\\ \\mathrm{kelvin}$"
      ],
      "text/plain": [
       "<Quantity(854.400+/-200.000, 'kelvin')>"
      ]
     },
     "execution_count": 133,
     "metadata": {},
     "output_type": "execute_result"
    }
   ],
   "source": [
    "T_отсчета = (ufloat(854.4, 200) * ureg.K).to_base_units()\n",
    "T_отсчета"
   ]
  },
  {
   "cell_type": "code",
   "execution_count": 134,
   "metadata": {},
   "outputs": [
    {
     "data": {
      "text/html": [
       "(2.00+/-0.20)e+03 kelvin"
      ],
      "text/latex": [
       "$(2.00+/-0.20)e+03\\ \\mathrm{kelvin}$"
      ],
      "text/plain": [
       "<Quantity(2000.00+/-200.00, 'kelvin')>"
      ]
     },
     "execution_count": 134,
     "metadata": {},
     "output_type": "execute_result"
    }
   ],
   "source": [
    "T_экзосферы = (ufloat(1000, 300) * ureg.kelvin).to_base_units()\n",
    "T_экзосферы"
   ]
  },
  {
   "cell_type": "markdown",
   "metadata": {},
   "source": [
    "Todo: разобраться, почему `ureg` не может сам разобраться с конверсией единиц измерения"
   ]
  },
  {
   "cell_type": "code",
   "execution_count": 135,
   "metadata": {},
   "outputs": [
    {
     "data": {
      "text/html": [
       "1.380649×10<sup>-23</sup> kilogram meter<sup>2</sup>/(kelvin second<sup>2</sup>)"
      ],
      "text/latex": [
       "$1.380649\\times 10^{-23}\\ \\frac{\\mathrm{kilogram} \\cdot \\mathrm{meter}^{2}}{\\left(\\mathrm{kelvin} \\cdot \\mathrm{second}^{2}\\right)}$"
      ],
      "text/plain": [
       "<Quantity(1.380649e-23, 'kilogram * meter ** 2 / second ** 2 / kelvin')>"
      ]
     },
     "execution_count": 135,
     "metadata": {},
     "output_type": "execute_result"
    }
   ],
   "source": [
    "k = (k_J_per_K * ureg.J / ureg.K).to_base_units()\n",
    "k"
   ]
  },
  {
   "cell_type": "code",
   "execution_count": 136,
   "metadata": {},
   "outputs": [
    {
     "data": {
      "text/html": [
       "(5.8+/-1.8)e-06 pascal"
      ],
      "text/latex": [
       "$(5.8+/-1.8)e-06\\ \\mathrm{pascal}$"
      ],
      "text/plain": [
       "<Quantity((5.75270+/-1.82169)e-06, 'pascal')>"
      ]
     },
     "execution_count": 136,
     "metadata": {},
     "output_type": "execute_result"
    }
   ],
   "source": [
    "p_экз = k * T_экзосферы /  σ / H\n",
    "p_экз.to('pascal')"
   ]
  },
  {
   "cell_type": "code",
   "execution_count": 137,
   "metadata": {},
   "outputs": [
    {
     "data": {
      "text/html": [
       "(3.6+/-0.4)e+02 kilometer"
      ],
      "text/latex": [
       "$(3.6+/-0.4)e+02\\ \\mathrm{kilometer}$"
      ],
      "text/plain": [
       "<Quantity(357.941+/-40.468, 'kilometer')>"
      ]
     },
     "execution_count": 137,
     "metadata": {},
     "output_type": "execute_result"
    }
   ],
   "source": [
    "h_экз = H_отсчета + H * umath.log( (P_отсчета / p_экз).magnitude )\n",
    "h_экз.to('km')"
   ]
  }
 ],
 "metadata": {
  "kernelspec": {
   "display_name": ".venv",
   "language": "python",
   "name": "python3"
  },
  "language_info": {
   "codemirror_mode": {
    "name": "ipython",
    "version": 3
   },
   "file_extension": ".py",
   "mimetype": "text/x-python",
   "name": "python",
   "nbconvert_exporter": "python",
   "pygments_lexer": "ipython3",
   "version": "3.12.5"
  }
 },
 "nbformat": 4,
 "nbformat_minor": 2
}
