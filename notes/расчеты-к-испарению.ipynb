{
 "cells": [
  {
   "cell_type": "markdown",
   "metadata": {},
   "source": [
    "Будем использовать физическими величинами с измерениями. Модуль PhysicalQuantities сломался, не обновлялся два года, поэтому придется попробовать `pint` + `uncertainties`."
   ]
  },
  {
   "cell_type": "code",
   "execution_count": 25,
   "metadata": {},
   "outputs": [],
   "source": [
    "from pint import UnitRegistry\n",
    "from uncertainties import ufloat, umath\n",
    "from scipy.constants import k as k_J_per_K\n",
    "import sympy as sp"
   ]
  },
  {
   "cell_type": "code",
   "execution_count": 26,
   "metadata": {},
   "outputs": [],
   "source": [
    "ureg = UnitRegistry()"
   ]
  },
  {
   "cell_type": "code",
   "execution_count": 27,
   "metadata": {},
   "outputs": [
    {
     "data": {
      "text/html": [
       "(2.000+/-0.010)e+05 meter"
      ],
      "text/latex": [
       "$(2.000+/-0.010)e+05\\ \\mathrm{meter}$"
      ],
      "text/plain": [
       "<Quantity(200000+/-1000, 'meter')>"
      ]
     },
     "execution_count": 27,
     "metadata": {},
     "output_type": "execute_result"
    }
   ],
   "source": [
    "H_отсчета = (ufloat(200, 1) * ureg.kilometer).to_base_units()\n",
    "H_отсчета"
   ]
  },
  {
   "cell_type": "code",
   "execution_count": 28,
   "metadata": {},
   "outputs": [
    {
     "data": {
      "text/html": [
       "(8.0+/-1.0)e-05 kilogram/(meter second<sup>2</sup>)"
      ],
      "text/latex": [
       "$(8.0+/-1.0)e-05\\ \\frac{\\mathrm{kilogram}}{\\left(\\mathrm{meter} \\cdot \\mathrm{second}^{2}\\right)}$"
      ],
      "text/plain": [
       "<Quantity((8.00000+/-1.00000)e-05, 'kilogram / meter / second ** 2')>"
      ]
     },
     "execution_count": 28,
     "metadata": {},
     "output_type": "execute_result"
    }
   ],
   "source": [
    "P_отсчета =  (ufloat(8, 1)* 1e-5 * ureg.pascal).to_base_units()\n",
    "P_отсчета"
   ]
  },
  {
   "cell_type": "code",
   "execution_count": 29,
   "metadata": {},
   "outputs": [
    {
     "data": {
      "text/html": [
       "(7.0+/-1.0)e+04 meter"
      ],
      "text/latex": [
       "$(7.0+/-1.0)e+04\\ \\mathrm{meter}$"
      ],
      "text/plain": [
       "<Quantity(70000.0+/-10000.0, 'meter')>"
      ]
     },
     "execution_count": 29,
     "metadata": {},
     "output_type": "execute_result"
    }
   ],
   "source": [
    "H = (ufloat(70, 10) * ureg.kilometer).to_base_units()\n",
    "H"
   ]
  },
  {
   "cell_type": "code",
   "execution_count": 30,
   "metadata": {},
   "outputs": [
    {
     "data": {
      "text/html": [
       "(8.0+/-2.0)e-20 meter<sup>2</sup>"
      ],
      "text/latex": [
       "$(8.0+/-2.0)e-20\\ \\mathrm{meter}^{2}$"
      ],
      "text/plain": [
       "<Quantity((8.00000+/-2.00000)e-20, 'meter ** 2')>"
      ]
     },
     "execution_count": 30,
     "metadata": {},
     "output_type": "execute_result"
    }
   ],
   "source": [
    "σ = (ufloat(8, 2) * ureg.angstrom * ureg.angstrom).to_base_units()\n",
    "σ"
   ]
  },
  {
   "cell_type": "code",
   "execution_count": 31,
   "metadata": {},
   "outputs": [
    {
     "data": {
      "text/html": [
       "(8.5+/-2.0)e+02 kelvin"
      ],
      "text/latex": [
       "$(8.5+/-2.0)e+02\\ \\mathrm{kelvin}$"
      ],
      "text/plain": [
       "<Quantity(854.400+/-200.000, 'kelvin')>"
      ]
     },
     "execution_count": 31,
     "metadata": {},
     "output_type": "execute_result"
    }
   ],
   "source": [
    "T_отсчета = (ufloat(854.4, 200) * ureg.K).to_base_units()\n",
    "T_отсчета"
   ]
  },
  {
   "cell_type": "code",
   "execution_count": 32,
   "metadata": {},
   "outputs": [
    {
     "data": {
      "text/html": [
       "(1.00+/-0.30)e+03 kelvin"
      ],
      "text/latex": [
       "$(1.00+/-0.30)e+03\\ \\mathrm{kelvin}$"
      ],
      "text/plain": [
       "<Quantity(1000.00+/-300.00, 'kelvin')>"
      ]
     },
     "execution_count": 32,
     "metadata": {},
     "output_type": "execute_result"
    }
   ],
   "source": [
    "T_экзосферы = (ufloat(1000, 300) * ureg.kelvin).to_base_units()\n",
    "T_экзосферы"
   ]
  },
  {
   "cell_type": "markdown",
   "metadata": {},
   "source": [
    "Todo: разобраться, почему `ureg` не может сам разобраться с конверсией единиц измерения, и почему там константы типа Units, а не Quantities"
   ]
  },
  {
   "cell_type": "code",
   "execution_count": 33,
   "metadata": {},
   "outputs": [
    {
     "data": {
      "text/html": [
       "1.380649×10<sup>-23</sup> kilogram meter<sup>2</sup>/(kelvin second<sup>2</sup>)"
      ],
      "text/latex": [
       "$1.380649\\times 10^{-23}\\ \\frac{\\mathrm{kilogram} \\cdot \\mathrm{meter}^{2}}{\\left(\\mathrm{kelvin} \\cdot \\mathrm{second}^{2}\\right)}$"
      ],
      "text/plain": [
       "<Quantity(1.380649e-23, 'kilogram * meter ** 2 / second ** 2 / kelvin')>"
      ]
     },
     "execution_count": 33,
     "metadata": {},
     "output_type": "execute_result"
    }
   ],
   "source": [
    "k = (k_J_per_K * ureg.J / ureg.K).to_base_units()\n",
    "k"
   ]
  },
  {
   "cell_type": "code",
   "execution_count": 34,
   "metadata": {},
   "outputs": [
    {
     "data": {
      "text/html": [
       "(2.5+/-1.0)e-06 pascal"
      ],
      "text/latex": [
       "$(2.5+/-1.0)e-06\\ \\mathrm{pascal}$"
      ],
      "text/plain": [
       "<Quantity((2.46544+/-1.02519)e-06, 'pascal')>"
      ]
     },
     "execution_count": 34,
     "metadata": {},
     "output_type": "execute_result"
    }
   ],
   "source": [
    "p_экз = k * T_экзосферы /  σ / H\n",
    "p_экз.to('pascal')"
   ]
  },
  {
   "cell_type": "code",
   "execution_count": 35,
   "metadata": {},
   "outputs": [
    {
     "data": {
      "text/html": [
       "(4.4+/-0.5)e+02 kilometer"
      ],
      "text/latex": [
       "$(4.4+/-0.5)e+02\\ \\mathrm{kilometer}$"
      ],
      "text/plain": [
       "<Quantity(443.576+/-53.212, 'kilometer')>"
      ]
     },
     "execution_count": 35,
     "metadata": {},
     "output_type": "execute_result"
    }
   ],
   "source": [
    "h_экз = H_отсчета + H * umath.log( (P_отсчета / p_экз).magnitude )\n",
    "h_экз.to('km')"
   ]
  },
  {
   "cell_type": "code",
   "execution_count": 36,
   "metadata": {},
   "outputs": [
    {
     "data": {
      "text/html": [
       "(4.4+/-0.5)e+05 meter"
      ],
      "text/latex": [
       "$(4.4+/-0.5)e+05\\ \\mathrm{meter}$"
      ],
      "text/plain": [
       "<Quantity(443576+/-53212, 'meter')>"
      ]
     },
     "execution_count": 36,
     "metadata": {},
     "output_type": "execute_result"
    }
   ],
   "source": [
    "h_экз = h_экз.to_base_units()\n",
    "h_экз"
   ]
  },
  {
   "cell_type": "markdown",
   "metadata": {},
   "source": [
    "----"
   ]
  },
  {
   "cell_type": "code",
   "execution_count": 37,
   "metadata": {},
   "outputs": [
    {
     "data": {
      "text/html": [
       "6.6743×10<sup>-11</sup> meter<sup>3</sup>/(kilogram second<sup>2</sup>)"
      ],
      "text/latex": [
       "$6.6743\\times 10^{-11}\\ \\frac{\\mathrm{meter}^{3}}{\\left(\\mathrm{kilogram} \\cdot \\mathrm{second}^{2}\\right)}$"
      ],
      "text/plain": [
       "<Quantity(6.6743e-11, 'meter ** 3 / kilogram / second ** 2')>"
      ]
     },
     "execution_count": 37,
     "metadata": {},
     "output_type": "execute_result"
    }
   ],
   "source": [
    "G = (1 * ureg.gravitational_constant).to_base_units()\n",
    "G"
   ]
  },
  {
   "cell_type": "code",
   "execution_count": 38,
   "metadata": {},
   "outputs": [
    {
     "data": {
      "text/html": [
       "(5.9722+/-0.0012)e+24 kilogram"
      ],
      "text/latex": [
       "$(5.9722+/-0.0012)e+24\\ \\mathrm{kilogram}$"
      ],
      "text/plain": [
       "<Quantity((5.97220+/-0.00120)e+24, 'kilogram')>"
      ]
     },
     "execution_count": 38,
     "metadata": {},
     "output_type": "execute_result"
    }
   ],
   "source": [
    "M_земли = ufloat(5.9722e24, 1.2e21) * ureg.kg\n",
    "M_земли"
   ]
  },
  {
   "cell_type": "code",
   "execution_count": 39,
   "metadata": {},
   "outputs": [
    {
     "data": {
      "text/html": [
       "(6.371+/-0.010)e+06 meter"
      ],
      "text/latex": [
       "$(6.371+/-0.010)e+06\\ \\mathrm{meter}$"
      ],
      "text/plain": [
       "<Quantity((6.37100+/-0.01000)e+06, 'meter')>"
      ]
     },
     "execution_count": 39,
     "metadata": {},
     "output_type": "execute_result"
    }
   ],
   "source": [
    "R_земли = (ufloat(6.371e6, 1e4) * ureg.meter).to_base_units()\n",
    "R_земли"
   ]
  },
  {
   "cell_type": "code",
   "execution_count": 40,
   "metadata": {},
   "outputs": [
    {
     "data": {
      "text/html": [
       "(6.81+/-0.05)e+06 meter"
      ],
      "text/latex": [
       "$(6.81+/-0.05)e+06\\ \\mathrm{meter}$"
      ],
      "text/plain": [
       "<Quantity((6.81458+/-0.05414)e+06, 'meter')>"
      ]
     },
     "execution_count": 40,
     "metadata": {},
     "output_type": "execute_result"
    }
   ],
   "source": [
    "R_земли+h_экз"
   ]
  },
  {
   "cell_type": "code",
   "execution_count": 41,
   "metadata": {},
   "outputs": [
    {
     "data": {
      "text/html": [
       "(1.170+/-0.009)e+08 meter<sup>2</sup>/second<sup>2</sup>"
      ],
      "text/latex": [
       "$(1.170+/-0.009)e+08\\ \\frac{\\mathrm{meter}^{2}}{\\mathrm{second}^{2}}$"
      ],
      "text/plain": [
       "<Quantity((1.16985+/-0.00930)e+08, 'meter ** 2 / second ** 2')>"
      ]
     },
     "execution_count": 41,
     "metadata": {},
     "output_type": "execute_result"
    }
   ],
   "source": [
    "v_esc_2 = 2*G*M_земли/(R_земли+h_экз)\n",
    "v_esc_2"
   ]
  },
  {
   "cell_type": "markdown",
   "metadata": {},
   "source": [
    "Разобраться, почему pint не поддерживает корни из квадратичных единиц измерения"
   ]
  },
  {
   "cell_type": "code",
   "execution_count": 42,
   "metadata": {},
   "outputs": [
    {
     "data": {
      "text/plain": [
       "10815.97357436471+/-42.981716415365625"
      ]
     },
     "execution_count": 42,
     "metadata": {},
     "output_type": "execute_result"
    }
   ],
   "source": [
    "v_побега_м_с = umath.sqrt(v_esc_2.magnitude)\n",
    "v_побега_м_с"
   ]
  },
  {
   "cell_type": "markdown",
   "metadata": {},
   "source": [
    "Ага, поддерживает, но не через `umath.sqrt`"
   ]
  },
  {
   "cell_type": "code",
   "execution_count": 43,
   "metadata": {},
   "outputs": [
    {
     "data": {
      "text/html": [
       "(1.082+/-0.004)e+04 meter/second"
      ],
      "text/latex": [
       "$(1.082+/-0.004)e+04\\ \\frac{\\mathrm{meter}}{\\mathrm{second}}$"
      ],
      "text/plain": [
       "<Quantity(10816.0+/-43.0, 'meter / second')>"
      ]
     },
     "execution_count": 43,
     "metadata": {},
     "output_type": "execute_result"
    }
   ],
   "source": [
    "v_esc = (2*G*M_земли/(R_земли+h_экз))**(1/2)\n",
    "v_esc"
   ]
  },
  {
   "cell_type": "code",
   "execution_count": 50,
   "metadata": {},
   "outputs": [
    {
     "data": {
      "text/plain": [
       "10815.97357436471+/-42.981716415365625"
      ]
     },
     "execution_count": 50,
     "metadata": {},
     "output_type": "execute_result"
    }
   ],
   "source": [
    "v_esc.magnitude"
   ]
  },
  {
   "cell_type": "markdown",
   "metadata": {},
   "source": [
    "----"
   ]
  },
  {
   "cell_type": "code",
   "execution_count": 44,
   "metadata": {},
   "outputs": [
    {
     "data": {
      "text/plain": [
       "(m, k, T, v, theta, phi)"
      ]
     },
     "execution_count": 44,
     "metadata": {},
     "output_type": "execute_result"
    }
   ],
   "source": [
    "m, k, T = sp.symbols('m, k, T', positive=True)  # Mass, Boltzmann constant, temperature\n",
    "v, theta, phi = sp.symbols('v, theta, phi', real=True)  # Spherical coordinates\n",
    "m, k, T, v, theta, phi"
   ]
  },
  {
   "cell_type": "code",
   "execution_count": 45,
   "metadata": {},
   "outputs": [
    {
     "data": {
      "text/latex": [
       "$\\displaystyle \\frac{0.353553390593274 m^{1.5}}{\\pi^{1.5} T^{1.5} k^{1.5}}$"
      ],
      "text/plain": [
       "0.353553390593274*m**1.5/(pi**1.5*T**1.5*k**1.5)"
      ]
     },
     "execution_count": 45,
     "metadata": {},
     "output_type": "execute_result"
    }
   ],
   "source": [
    "норм_коэф = (m / (2 * sp.pi * k * T))**(3/2)\n",
    "норм_коэф\n"
   ]
  },
  {
   "cell_type": "code",
   "execution_count": 46,
   "metadata": {},
   "outputs": [
    {
     "data": {
      "text/latex": [
       "$\\displaystyle \\frac{0.353553390593274 m^{1.5} v^{2} e^{- \\frac{m v^{2}}{2 T k}} \\sin{\\left(\\theta \\right)}}{\\pi^{1.5} T^{1.5} k^{1.5}}$"
      ],
      "text/plain": [
       "0.353553390593274*m**1.5*v**2*exp(-m*v**2/(2*T*k))*sin(theta)/(pi**1.5*T**1.5*k**1.5)"
      ]
     },
     "execution_count": 46,
     "metadata": {},
     "output_type": "execute_result"
    }
   ],
   "source": [
    "f = норм_коэф * sp.exp(-m * v**2 / (2 * k * T)) * v**2 * sp.sin(theta)\n",
    "f"
   ]
  },
  {
   "cell_type": "markdown",
   "metadata": {},
   "source": [
    "Интегрируем по $\\phi$ от $-\\pi$ до $\\pi$"
   ]
  },
  {
   "cell_type": "code",
   "execution_count": 47,
   "metadata": {},
   "outputs": [
    {
     "data": {
      "text/latex": [
       "$\\displaystyle \\frac{0.707106781186548 m^{1.5} v^{2} e^{- \\frac{m v^{2}}{2 T k}} \\sin{\\left(\\theta \\right)}}{\\pi^{0.5} T^{1.5} k^{1.5}}$"
      ],
      "text/plain": [
       "0.707106781186548*m**1.5*v**2*exp(-m*v**2/(2*T*k))*sin(theta)/(pi**0.5*T**1.5*k**1.5)"
      ]
     },
     "execution_count": 47,
     "metadata": {},
     "output_type": "execute_result"
    }
   ],
   "source": [
    "интеграл_phi = sp.integrate(f, (phi, -sp.pi, sp.pi))\n",
    "интеграл_phi"
   ]
  },
  {
   "cell_type": "markdown",
   "metadata": {},
   "source": [
    "Интегрируем по $\\theta$ от $0$ до $\\pi$"
   ]
  },
  {
   "cell_type": "code",
   "execution_count": 48,
   "metadata": {},
   "outputs": [
    {
     "data": {
      "text/latex": [
       "$\\displaystyle \\frac{1.4142135623731 m^{1.5} v^{2} e^{- \\frac{m v^{2}}{2 T k}}}{\\pi^{0.5} T^{1.5} k^{1.5}}$"
      ],
      "text/plain": [
       "1.4142135623731*m**1.5*v**2*exp(-m*v**2/(2*T*k))/(pi**0.5*T**1.5*k**1.5)"
      ]
     },
     "execution_count": 48,
     "metadata": {},
     "output_type": "execute_result"
    }
   ],
   "source": [
    "интеграл_theta = sp.integrate(интеграл_phi, (theta, 0, sp.pi))\n",
    "интеграл_theta"
   ]
  },
  {
   "cell_type": "markdown",
   "metadata": {},
   "source": [
    "Интегрируем по $v$ от $v_{esc}$ до $\\infty$"
   ]
  },
  {
   "cell_type": "code",
   "execution_count": 49,
   "metadata": {},
   "outputs": [
    {
     "ename": "SympifyError",
     "evalue": "SympifyError: \"cannot sympify object of type <class 'list'>\"",
     "output_type": "error",
     "traceback": [
      "\u001b[31m---------------------------------------------------------------------------\u001b[39m",
      "\u001b[31mSympifyError\u001b[39m                              Traceback (most recent call last)",
      "\u001b[36mCell\u001b[39m\u001b[36m \u001b[39m\u001b[32mIn[49]\u001b[39m\u001b[32m, line 1\u001b[39m\n\u001b[32m----> \u001b[39m\u001b[32m1\u001b[39m рез = \u001b[43msp\u001b[49m\u001b[43m.\u001b[49m\u001b[43mintegrate\u001b[49m\u001b[43m(\u001b[49m\u001b[43mинтеграл_theta\u001b[49m\u001b[43m,\u001b[49m\u001b[43m \u001b[49m\u001b[43m(\u001b[49m\u001b[43mv\u001b[49m\u001b[43m,\u001b[49m\u001b[43m \u001b[49m\u001b[43mv_esc\u001b[49m\u001b[43m,\u001b[49m\u001b[43m \u001b[49m\u001b[43msp\u001b[49m\u001b[43m.\u001b[49m\u001b[43moo\u001b[49m\u001b[43m)\u001b[49m\u001b[43m)\u001b[49m\n\u001b[32m      2\u001b[39m рез\n",
      "\u001b[36mFile \u001b[39m\u001b[32m~/atmoescape/.venv/lib64/python3.12/site-packages/sympy/integrals/integrals.py:1572\u001b[39m, in \u001b[36mintegrate\u001b[39m\u001b[34m(meijerg, conds, risch, heurisch, manual, *args, **kwargs)\u001b[39m\n\u001b[32m   1407\u001b[39m \u001b[38;5;250m\u001b[39m\u001b[33;03m\"\"\"integrate(f, var, ...)\u001b[39;00m\n\u001b[32m   1408\u001b[39m \n\u001b[32m   1409\u001b[39m \u001b[33;03m.. deprecated:: 1.6\u001b[39;00m\n\u001b[32m   (...)\u001b[39m\u001b[32m   1561\u001b[39m \n\u001b[32m   1562\u001b[39m \u001b[33;03m\"\"\"\u001b[39;00m\n\u001b[32m   1563\u001b[39m doit_flags = {\n\u001b[32m   1564\u001b[39m     \u001b[33m'\u001b[39m\u001b[33mdeep\u001b[39m\u001b[33m'\u001b[39m: \u001b[38;5;28;01mFalse\u001b[39;00m,\n\u001b[32m   1565\u001b[39m     \u001b[33m'\u001b[39m\u001b[33mmeijerg\u001b[39m\u001b[33m'\u001b[39m: meijerg,\n\u001b[32m   (...)\u001b[39m\u001b[32m   1569\u001b[39m     \u001b[33m'\u001b[39m\u001b[33mmanual\u001b[39m\u001b[33m'\u001b[39m: manual\n\u001b[32m   1570\u001b[39m     }\n\u001b[32m-> \u001b[39m\u001b[32m1572\u001b[39m integral = \u001b[43mIntegral\u001b[49m\u001b[43m(\u001b[49m\u001b[43m*\u001b[49m\u001b[43margs\u001b[49m\u001b[43m,\u001b[49m\u001b[43m \u001b[49m\u001b[43m*\u001b[49m\u001b[43m*\u001b[49m\u001b[43mkwargs\u001b[49m\u001b[43m)\u001b[49m\n\u001b[32m   1574\u001b[39m \u001b[38;5;28;01mif\u001b[39;00m \u001b[38;5;28misinstance\u001b[39m(integral, Integral):\n\u001b[32m   1575\u001b[39m     \u001b[38;5;28;01mreturn\u001b[39;00m integral.doit(**doit_flags)\n",
      "\u001b[36mFile \u001b[39m\u001b[32m~/atmoescape/.venv/lib64/python3.12/site-packages/sympy/integrals/integrals.py:97\u001b[39m, in \u001b[36mIntegral.__new__\u001b[39m\u001b[34m(cls, function, *symbols, **assumptions)\u001b[39m\n\u001b[32m     87\u001b[39m \u001b[38;5;28;01mif\u001b[39;00m \u001b[38;5;28misinstance\u001b[39m(function, Poly):\n\u001b[32m     88\u001b[39m     sympy_deprecation_warning(\n\u001b[32m     89\u001b[39m \u001b[38;5;250m        \u001b[39m\u001b[33;03m\"\"\"\u001b[39;00m\n\u001b[32m     90\u001b[39m \u001b[33;03m        integrate(Poly) and Integral(Poly) are deprecated. Instead,\u001b[39;00m\n\u001b[32m   (...)\u001b[39m\u001b[32m     94\u001b[39m         deprecated_since_version=\u001b[33m\"\u001b[39m\u001b[33m1.6\u001b[39m\u001b[33m\"\u001b[39m,\n\u001b[32m     95\u001b[39m         active_deprecations_target=\u001b[33m\"\u001b[39m\u001b[33mdeprecated-integrate-poly\u001b[39m\u001b[33m\"\u001b[39m)\n\u001b[32m---> \u001b[39m\u001b[32m97\u001b[39m obj = \u001b[43mAddWithLimits\u001b[49m\u001b[43m.\u001b[49m\u001b[34;43m__new__\u001b[39;49m\u001b[43m(\u001b[49m\u001b[38;5;28;43mcls\u001b[39;49m\u001b[43m,\u001b[49m\u001b[43m \u001b[49m\u001b[43mfunction\u001b[49m\u001b[43m,\u001b[49m\u001b[43m \u001b[49m\u001b[43m*\u001b[49m\u001b[43msymbols\u001b[49m\u001b[43m,\u001b[49m\u001b[43m \u001b[49m\u001b[43m*\u001b[49m\u001b[43m*\u001b[49m\u001b[43massumptions\u001b[49m\u001b[43m)\u001b[49m\n\u001b[32m     98\u001b[39m \u001b[38;5;28;01mreturn\u001b[39;00m obj\n",
      "\u001b[36mFile \u001b[39m\u001b[32m~/atmoescape/.venv/lib64/python3.12/site-packages/sympy/concrete/expr_with_limits.py:547\u001b[39m, in \u001b[36mAddWithLimits.__new__\u001b[39m\u001b[34m(cls, function, *symbols, **assumptions)\u001b[39m\n\u001b[32m    545\u001b[39m \u001b[38;5;28;01mdef\u001b[39;00m\u001b[38;5;250m \u001b[39m\u001b[34m__new__\u001b[39m(\u001b[38;5;28mcls\u001b[39m, function, *symbols, **assumptions):\n\u001b[32m    546\u001b[39m     \u001b[38;5;28;01mfrom\u001b[39;00m\u001b[38;5;250m \u001b[39m\u001b[34;01msympy\u001b[39;00m\u001b[34;01m.\u001b[39;00m\u001b[34;01mconcrete\u001b[39;00m\u001b[34;01m.\u001b[39;00m\u001b[34;01msummations\u001b[39;00m\u001b[38;5;250m \u001b[39m\u001b[38;5;28;01mimport\u001b[39;00m Sum\n\u001b[32m--> \u001b[39m\u001b[32m547\u001b[39m     pre = \u001b[43m_common_new\u001b[49m\u001b[43m(\u001b[49m\u001b[38;5;28;43mcls\u001b[39;49m\u001b[43m,\u001b[49m\u001b[43m \u001b[49m\u001b[43mfunction\u001b[49m\u001b[43m,\u001b[49m\u001b[43m \u001b[49m\u001b[43m*\u001b[49m\u001b[43msymbols\u001b[49m\u001b[43m,\u001b[49m\n\u001b[32m    548\u001b[39m \u001b[43m        \u001b[49m\u001b[43mdiscrete\u001b[49m\u001b[43m=\u001b[49m\u001b[38;5;28;43missubclass\u001b[39;49m\u001b[43m(\u001b[49m\u001b[38;5;28;43mcls\u001b[39;49m\u001b[43m,\u001b[49m\u001b[43m \u001b[49m\u001b[43mSum\u001b[49m\u001b[43m)\u001b[49m\u001b[43m,\u001b[49m\u001b[43m \u001b[49m\u001b[43m*\u001b[49m\u001b[43m*\u001b[49m\u001b[43massumptions\u001b[49m\u001b[43m)\u001b[49m\n\u001b[32m    549\u001b[39m     \u001b[38;5;28;01mif\u001b[39;00m \u001b[38;5;28misinstance\u001b[39m(pre, \u001b[38;5;28mtuple\u001b[39m):\n\u001b[32m    550\u001b[39m         function, limits, orientation = pre\n",
      "\u001b[36mFile \u001b[39m\u001b[32m~/atmoescape/.venv/lib64/python3.12/site-packages/sympy/concrete/expr_with_limits.py:57\u001b[39m, in \u001b[36m_common_new\u001b[39m\u001b[34m(cls, function, discrete, *symbols, **assumptions)\u001b[39m\n\u001b[32m     54\u001b[39m     \u001b[38;5;28;01mreturn\u001b[39;00m S.NaN\n\u001b[32m     56\u001b[39m \u001b[38;5;28;01mif\u001b[39;00m symbols:\n\u001b[32m---> \u001b[39m\u001b[32m57\u001b[39m     limits, orientation = \u001b[43m_process_limits\u001b[49m\u001b[43m(\u001b[49m\u001b[43m*\u001b[49m\u001b[43msymbols\u001b[49m\u001b[43m,\u001b[49m\u001b[43m \u001b[49m\u001b[43mdiscrete\u001b[49m\u001b[43m=\u001b[49m\u001b[43mdiscrete\u001b[49m\u001b[43m)\u001b[49m\n\u001b[32m     58\u001b[39m     \u001b[38;5;28;01mfor\u001b[39;00m i, li \u001b[38;5;129;01min\u001b[39;00m \u001b[38;5;28menumerate\u001b[39m(limits):\n\u001b[32m     59\u001b[39m         \u001b[38;5;28;01mif\u001b[39;00m \u001b[38;5;28mlen\u001b[39m(li) == \u001b[32m4\u001b[39m:\n",
      "\u001b[36mFile \u001b[39m\u001b[32m~/atmoescape/.venv/lib64/python3.12/site-packages/sympy/concrete/expr_with_limits.py:152\u001b[39m, in \u001b[36m_process_limits\u001b[39m\u001b[34m(discrete, *symbols)\u001b[39m\n\u001b[32m    146\u001b[39m     \u001b[38;5;28;01melse\u001b[39;00m:\n\u001b[32m    147\u001b[39m         \u001b[38;5;66;03m# more complicated sets would require splitting, e.g.\u001b[39;00m\n\u001b[32m    148\u001b[39m         \u001b[38;5;66;03m# Union(Interval(1, 3), interval(6,10))\u001b[39;00m\n\u001b[32m    149\u001b[39m         \u001b[38;5;28;01mraise\u001b[39;00m \u001b[38;5;167;01mNotImplementedError\u001b[39;00m(\n\u001b[32m    150\u001b[39m             \u001b[33m'\u001b[39m\u001b[33mexpecting Range\u001b[39m\u001b[33m'\u001b[39m \u001b[38;5;28;01mif\u001b[39;00m discrete \u001b[38;5;28;01melse\u001b[39;00m\n\u001b[32m    151\u001b[39m             \u001b[33m'\u001b[39m\u001b[33mRelational or single Interval\u001b[39m\u001b[33m'\u001b[39m )\n\u001b[32m--> \u001b[39m\u001b[32m152\u001b[39m V = \u001b[43msympify\u001b[49m\u001b[43m(\u001b[49m\u001b[43mflatten\u001b[49m\u001b[43m(\u001b[49m\u001b[43mV\u001b[49m\u001b[43m)\u001b[49m\u001b[43m)\u001b[49m  \u001b[38;5;66;03m# list of sympified elements/None\u001b[39;00m\n\u001b[32m    153\u001b[39m \u001b[38;5;28;01mif\u001b[39;00m \u001b[38;5;28misinstance\u001b[39m(V[\u001b[32m0\u001b[39m], (Symbol, Idx)) \u001b[38;5;129;01mor\u001b[39;00m \u001b[38;5;28mgetattr\u001b[39m(V[\u001b[32m0\u001b[39m], \u001b[33m'\u001b[39m\u001b[33m_diff_wrt\u001b[39m\u001b[33m'\u001b[39m, \u001b[38;5;28;01mFalse\u001b[39;00m):\n\u001b[32m    154\u001b[39m     newsymbol = V[\u001b[32m0\u001b[39m]\n",
      "\u001b[36mFile \u001b[39m\u001b[32m~/atmoescape/.venv/lib64/python3.12/site-packages/sympy/core/sympify.py:491\u001b[39m, in \u001b[36msympify\u001b[39m\u001b[34m(a, locals, convert_xor, strict, rational, evaluate)\u001b[39m\n\u001b[32m    488\u001b[39m         \u001b[38;5;28;01mpass\u001b[39;00m\n\u001b[32m    490\u001b[39m \u001b[38;5;28;01mif\u001b[39;00m \u001b[38;5;129;01mnot\u001b[39;00m \u001b[38;5;28misinstance\u001b[39m(a, \u001b[38;5;28mstr\u001b[39m):\n\u001b[32m--> \u001b[39m\u001b[32m491\u001b[39m     \u001b[38;5;28;01mraise\u001b[39;00m SympifyError(\u001b[33m'\u001b[39m\u001b[33mcannot sympify object of type \u001b[39m\u001b[38;5;132;01m%r\u001b[39;00m\u001b[33m'\u001b[39m % \u001b[38;5;28mtype\u001b[39m(a))\n\u001b[32m    493\u001b[39m \u001b[38;5;28;01mfrom\u001b[39;00m\u001b[38;5;250m \u001b[39m\u001b[34;01msympy\u001b[39;00m\u001b[34;01m.\u001b[39;00m\u001b[34;01mparsing\u001b[39;00m\u001b[34;01m.\u001b[39;00m\u001b[34;01msympy_parser\u001b[39;00m\u001b[38;5;250m \u001b[39m\u001b[38;5;28;01mimport\u001b[39;00m (parse_expr, TokenError,\n\u001b[32m    494\u001b[39m                                         standard_transformations)\n\u001b[32m    495\u001b[39m \u001b[38;5;28;01mfrom\u001b[39;00m\u001b[38;5;250m \u001b[39m\u001b[34;01msympy\u001b[39;00m\u001b[34;01m.\u001b[39;00m\u001b[34;01mparsing\u001b[39;00m\u001b[34;01m.\u001b[39;00m\u001b[34;01msympy_parser\u001b[39;00m\u001b[38;5;250m \u001b[39m\u001b[38;5;28;01mimport\u001b[39;00m convert_xor \u001b[38;5;28;01mas\u001b[39;00m t_convert_xor\n",
      "\u001b[31mSympifyError\u001b[39m: SympifyError: \"cannot sympify object of type <class 'list'>\""
     ]
    }
   ],
   "source": [
    "рез = sp.integrate(интеграл_theta, (v, v_esc, sp.oo))\n",
    "рез\n"
   ]
  },
  {
   "cell_type": "markdown",
   "metadata": {},
   "source": [
    "Интегрируем по $\\theta$ от $0$ до $\\pi$"
   ]
  },
  {
   "cell_type": "markdown",
   "metadata": {},
   "source": []
  },
  {
   "cell_type": "markdown",
   "metadata": {},
   "source": []
  }
 ],
 "metadata": {
  "kernelspec": {
   "display_name": ".venv",
   "language": "python",
   "name": "python3"
  },
  "language_info": {
   "codemirror_mode": {
    "name": "ipython",
    "version": 3
   },
   "file_extension": ".py",
   "mimetype": "text/x-python",
   "name": "python",
   "nbconvert_exporter": "python",
   "pygments_lexer": "ipython3",
   "version": "3.12.5"
  }
 },
 "nbformat": 4,
 "nbformat_minor": 2
}
